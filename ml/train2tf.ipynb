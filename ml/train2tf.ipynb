{
  "cells": [
    {
      "cell_type": "code",
      "execution_count": 1,
      "metadata": {
        "colab": {
          "base_uri": "https://localhost:8080/"
        },
        "id": "r0vebAGxBnJf",
        "outputId": "74741334-e993-429d-97c1-2bf304c0e714"
      },
      "outputs": [
        {
          "name": "stdout",
          "output_type": "stream",
          "text": [
            "Archive:  milana-ruby-2024-10-20.zip\n",
            "  inflating: milana-ruby-2024-10-20.csv  \n"
          ]
        }
      ],
      "source": [
        "!unzip milana-ruby-2024-10-20.zip"
      ]
    },
    {
      "cell_type": "code",
      "execution_count": 2,
      "metadata": {
        "id": "fp1i6QQDjVBf"
      },
      "outputs": [],
      "source": [
        "import pandas as pd"
      ]
    },
    {
      "cell_type": "code",
      "execution_count": 4,
      "metadata": {
        "colab": {
          "base_uri": "https://localhost:8080/",
          "height": 444
        },
        "id": "UXlwnGljjVBj",
        "outputId": "805d086a-6066-4d14-e504-b4c7cf4c9771"
      },
      "outputs": [
        {
          "data": {
            "text/html": [
              "<div>\n",
              "<style scoped>\n",
              "    .dataframe tbody tr th:only-of-type {\n",
              "        vertical-align: middle;\n",
              "    }\n",
              "\n",
              "    .dataframe tbody tr th {\n",
              "        vertical-align: top;\n",
              "    }\n",
              "\n",
              "    .dataframe thead th {\n",
              "        text-align: right;\n",
              "    }\n",
              "</style>\n",
              "<table border=\"1\" class=\"dataframe\">\n",
              "  <thead>\n",
              "    <tr style=\"text-align: right;\">\n",
              "      <th></th>\n",
              "      <th>first</th>\n",
              "      <th>skill1</th>\n",
              "      <th>skill2</th>\n",
              "      <th>skill3</th>\n",
              "      <th>skill4</th>\n",
              "      <th>skill5</th>\n",
              "      <th>skill6</th>\n",
              "      <th>skill7</th>\n",
              "      <th>skill8</th>\n",
              "      <th>skill9</th>\n",
              "      <th>...</th>\n",
              "      <th>oppskill2</th>\n",
              "      <th>oppskill3</th>\n",
              "      <th>oppskill4</th>\n",
              "      <th>oppskill5</th>\n",
              "      <th>oppskill6</th>\n",
              "      <th>oppskill7</th>\n",
              "      <th>oppskill8</th>\n",
              "      <th>oppskill9</th>\n",
              "      <th>oppskill10</th>\n",
              "      <th>res</th>\n",
              "    </tr>\n",
              "  </thead>\n",
              "  <tbody>\n",
              "    <tr>\n",
              "      <th>0</th>\n",
              "      <td>0</td>\n",
              "      <td>2</td>\n",
              "      <td>0</td>\n",
              "      <td>0</td>\n",
              "      <td>0</td>\n",
              "      <td>0</td>\n",
              "      <td>2</td>\n",
              "      <td>0</td>\n",
              "      <td>0</td>\n",
              "      <td>-1</td>\n",
              "      <td>...</td>\n",
              "      <td>0</td>\n",
              "      <td>0</td>\n",
              "      <td>0</td>\n",
              "      <td>0</td>\n",
              "      <td>0</td>\n",
              "      <td>0</td>\n",
              "      <td>0</td>\n",
              "      <td>0</td>\n",
              "      <td>-1</td>\n",
              "      <td>3</td>\n",
              "    </tr>\n",
              "    <tr>\n",
              "      <th>1</th>\n",
              "      <td>0</td>\n",
              "      <td>2</td>\n",
              "      <td>0</td>\n",
              "      <td>0</td>\n",
              "      <td>0</td>\n",
              "      <td>0</td>\n",
              "      <td>2</td>\n",
              "      <td>0</td>\n",
              "      <td>0</td>\n",
              "      <td>-1</td>\n",
              "      <td>...</td>\n",
              "      <td>0</td>\n",
              "      <td>0</td>\n",
              "      <td>0</td>\n",
              "      <td>0</td>\n",
              "      <td>0</td>\n",
              "      <td>0</td>\n",
              "      <td>0</td>\n",
              "      <td>1</td>\n",
              "      <td>-1</td>\n",
              "      <td>3</td>\n",
              "    </tr>\n",
              "    <tr>\n",
              "      <th>2</th>\n",
              "      <td>0</td>\n",
              "      <td>2</td>\n",
              "      <td>0</td>\n",
              "      <td>0</td>\n",
              "      <td>0</td>\n",
              "      <td>0</td>\n",
              "      <td>2</td>\n",
              "      <td>0</td>\n",
              "      <td>0</td>\n",
              "      <td>-1</td>\n",
              "      <td>...</td>\n",
              "      <td>0</td>\n",
              "      <td>0</td>\n",
              "      <td>0</td>\n",
              "      <td>0</td>\n",
              "      <td>0</td>\n",
              "      <td>0</td>\n",
              "      <td>0</td>\n",
              "      <td>2</td>\n",
              "      <td>-1</td>\n",
              "      <td>3</td>\n",
              "    </tr>\n",
              "    <tr>\n",
              "      <th>3</th>\n",
              "      <td>0</td>\n",
              "      <td>2</td>\n",
              "      <td>0</td>\n",
              "      <td>0</td>\n",
              "      <td>0</td>\n",
              "      <td>0</td>\n",
              "      <td>2</td>\n",
              "      <td>0</td>\n",
              "      <td>0</td>\n",
              "      <td>-1</td>\n",
              "      <td>...</td>\n",
              "      <td>0</td>\n",
              "      <td>0</td>\n",
              "      <td>0</td>\n",
              "      <td>0</td>\n",
              "      <td>0</td>\n",
              "      <td>0</td>\n",
              "      <td>0</td>\n",
              "      <td>3</td>\n",
              "      <td>-1</td>\n",
              "      <td>3</td>\n",
              "    </tr>\n",
              "    <tr>\n",
              "      <th>4</th>\n",
              "      <td>0</td>\n",
              "      <td>2</td>\n",
              "      <td>0</td>\n",
              "      <td>0</td>\n",
              "      <td>0</td>\n",
              "      <td>0</td>\n",
              "      <td>2</td>\n",
              "      <td>0</td>\n",
              "      <td>-1</td>\n",
              "      <td>-1</td>\n",
              "      <td>...</td>\n",
              "      <td>0</td>\n",
              "      <td>0</td>\n",
              "      <td>0</td>\n",
              "      <td>0</td>\n",
              "      <td>0</td>\n",
              "      <td>0</td>\n",
              "      <td>0</td>\n",
              "      <td>-1</td>\n",
              "      <td>-1</td>\n",
              "      <td>0</td>\n",
              "    </tr>\n",
              "    <tr>\n",
              "      <th>...</th>\n",
              "      <td>...</td>\n",
              "      <td>...</td>\n",
              "      <td>...</td>\n",
              "      <td>...</td>\n",
              "      <td>...</td>\n",
              "      <td>...</td>\n",
              "      <td>...</td>\n",
              "      <td>...</td>\n",
              "      <td>...</td>\n",
              "      <td>...</td>\n",
              "      <td>...</td>\n",
              "      <td>...</td>\n",
              "      <td>...</td>\n",
              "      <td>...</td>\n",
              "      <td>...</td>\n",
              "      <td>...</td>\n",
              "      <td>...</td>\n",
              "      <td>...</td>\n",
              "      <td>...</td>\n",
              "      <td>...</td>\n",
              "      <td>...</td>\n",
              "    </tr>\n",
              "    <tr>\n",
              "      <th>1004178</th>\n",
              "      <td>1</td>\n",
              "      <td>0</td>\n",
              "      <td>0</td>\n",
              "      <td>2</td>\n",
              "      <td>0</td>\n",
              "      <td>-1</td>\n",
              "      <td>-1</td>\n",
              "      <td>-1</td>\n",
              "      <td>-1</td>\n",
              "      <td>-1</td>\n",
              "      <td>...</td>\n",
              "      <td>3</td>\n",
              "      <td>3</td>\n",
              "      <td>3</td>\n",
              "      <td>-1</td>\n",
              "      <td>-1</td>\n",
              "      <td>-1</td>\n",
              "      <td>-1</td>\n",
              "      <td>-1</td>\n",
              "      <td>-1</td>\n",
              "      <td>0</td>\n",
              "    </tr>\n",
              "    <tr>\n",
              "      <th>1004179</th>\n",
              "      <td>1</td>\n",
              "      <td>0</td>\n",
              "      <td>0</td>\n",
              "      <td>2</td>\n",
              "      <td>-1</td>\n",
              "      <td>-1</td>\n",
              "      <td>-1</td>\n",
              "      <td>-1</td>\n",
              "      <td>-1</td>\n",
              "      <td>-1</td>\n",
              "      <td>...</td>\n",
              "      <td>3</td>\n",
              "      <td>3</td>\n",
              "      <td>-1</td>\n",
              "      <td>-1</td>\n",
              "      <td>-1</td>\n",
              "      <td>-1</td>\n",
              "      <td>-1</td>\n",
              "      <td>-1</td>\n",
              "      <td>-1</td>\n",
              "      <td>0</td>\n",
              "    </tr>\n",
              "    <tr>\n",
              "      <th>1004180</th>\n",
              "      <td>1</td>\n",
              "      <td>0</td>\n",
              "      <td>0</td>\n",
              "      <td>-1</td>\n",
              "      <td>-1</td>\n",
              "      <td>-1</td>\n",
              "      <td>-1</td>\n",
              "      <td>-1</td>\n",
              "      <td>-1</td>\n",
              "      <td>-1</td>\n",
              "      <td>...</td>\n",
              "      <td>3</td>\n",
              "      <td>-1</td>\n",
              "      <td>-1</td>\n",
              "      <td>-1</td>\n",
              "      <td>-1</td>\n",
              "      <td>-1</td>\n",
              "      <td>-1</td>\n",
              "      <td>-1</td>\n",
              "      <td>-1</td>\n",
              "      <td>2</td>\n",
              "    </tr>\n",
              "    <tr>\n",
              "      <th>1004181</th>\n",
              "      <td>1</td>\n",
              "      <td>0</td>\n",
              "      <td>-1</td>\n",
              "      <td>-1</td>\n",
              "      <td>-1</td>\n",
              "      <td>-1</td>\n",
              "      <td>-1</td>\n",
              "      <td>-1</td>\n",
              "      <td>-1</td>\n",
              "      <td>-1</td>\n",
              "      <td>...</td>\n",
              "      <td>-1</td>\n",
              "      <td>-1</td>\n",
              "      <td>-1</td>\n",
              "      <td>-1</td>\n",
              "      <td>-1</td>\n",
              "      <td>-1</td>\n",
              "      <td>-1</td>\n",
              "      <td>-1</td>\n",
              "      <td>-1</td>\n",
              "      <td>0</td>\n",
              "    </tr>\n",
              "    <tr>\n",
              "      <th>1004182</th>\n",
              "      <td>1</td>\n",
              "      <td>-1</td>\n",
              "      <td>-1</td>\n",
              "      <td>-1</td>\n",
              "      <td>-1</td>\n",
              "      <td>-1</td>\n",
              "      <td>-1</td>\n",
              "      <td>-1</td>\n",
              "      <td>-1</td>\n",
              "      <td>-1</td>\n",
              "      <td>...</td>\n",
              "      <td>-1</td>\n",
              "      <td>-1</td>\n",
              "      <td>-1</td>\n",
              "      <td>-1</td>\n",
              "      <td>-1</td>\n",
              "      <td>-1</td>\n",
              "      <td>-1</td>\n",
              "      <td>-1</td>\n",
              "      <td>-1</td>\n",
              "      <td>0</td>\n",
              "    </tr>\n",
              "  </tbody>\n",
              "</table>\n",
              "<p>1004183 rows × 22 columns</p>\n",
              "</div>"
            ],
            "text/plain": [
              "         first  skill1  skill2  skill3  skill4  skill5  skill6  skill7  \\\n",
              "0            0       2       0       0       0       0       2       0   \n",
              "1            0       2       0       0       0       0       2       0   \n",
              "2            0       2       0       0       0       0       2       0   \n",
              "3            0       2       0       0       0       0       2       0   \n",
              "4            0       2       0       0       0       0       2       0   \n",
              "...        ...     ...     ...     ...     ...     ...     ...     ...   \n",
              "1004178      1       0       0       2       0      -1      -1      -1   \n",
              "1004179      1       0       0       2      -1      -1      -1      -1   \n",
              "1004180      1       0       0      -1      -1      -1      -1      -1   \n",
              "1004181      1       0      -1      -1      -1      -1      -1      -1   \n",
              "1004182      1      -1      -1      -1      -1      -1      -1      -1   \n",
              "\n",
              "         skill8  skill9  ...  oppskill2  oppskill3  oppskill4  oppskill5  \\\n",
              "0             0      -1  ...          0          0          0          0   \n",
              "1             0      -1  ...          0          0          0          0   \n",
              "2             0      -1  ...          0          0          0          0   \n",
              "3             0      -1  ...          0          0          0          0   \n",
              "4            -1      -1  ...          0          0          0          0   \n",
              "...         ...     ...  ...        ...        ...        ...        ...   \n",
              "1004178      -1      -1  ...          3          3          3         -1   \n",
              "1004179      -1      -1  ...          3          3         -1         -1   \n",
              "1004180      -1      -1  ...          3         -1         -1         -1   \n",
              "1004181      -1      -1  ...         -1         -1         -1         -1   \n",
              "1004182      -1      -1  ...         -1         -1         -1         -1   \n",
              "\n",
              "         oppskill6  oppskill7  oppskill8  oppskill9  oppskill10  res  \n",
              "0                0          0          0          0          -1    3  \n",
              "1                0          0          0          1          -1    3  \n",
              "2                0          0          0          2          -1    3  \n",
              "3                0          0          0          3          -1    3  \n",
              "4                0          0          0         -1          -1    0  \n",
              "...            ...        ...        ...        ...         ...  ...  \n",
              "1004178         -1         -1         -1         -1          -1    0  \n",
              "1004179         -1         -1         -1         -1          -1    0  \n",
              "1004180         -1         -1         -1         -1          -1    2  \n",
              "1004181         -1         -1         -1         -1          -1    0  \n",
              "1004182         -1         -1         -1         -1          -1    0  \n",
              "\n",
              "[1004183 rows x 22 columns]"
            ]
          },
          "execution_count": 4,
          "metadata": {},
          "output_type": "execute_result"
        }
      ],
      "source": [
        "df = pd.read_csv(\"milana-ruby-2024-10-20.csv\")\n",
        "df"
      ]
    },
    {
      "cell_type": "code",
      "execution_count": 5,
      "metadata": {
        "colab": {
          "base_uri": "https://localhost:8080/",
          "height": 161
        },
        "id": "PwxYzfAarjAN",
        "outputId": "f2dbd0f3-8a27-4dc5-bc9a-1a77abe64aa1"
      },
      "outputs": [
        {
          "data": {
            "text/html": [
              "<div>\n",
              "<style scoped>\n",
              "    .dataframe tbody tr th:only-of-type {\n",
              "        vertical-align: middle;\n",
              "    }\n",
              "\n",
              "    .dataframe tbody tr th {\n",
              "        vertical-align: top;\n",
              "    }\n",
              "\n",
              "    .dataframe thead th {\n",
              "        text-align: right;\n",
              "    }\n",
              "</style>\n",
              "<table border=\"1\" class=\"dataframe\">\n",
              "  <thead>\n",
              "    <tr style=\"text-align: right;\">\n",
              "      <th></th>\n",
              "      <th>first</th>\n",
              "      <th>skill1</th>\n",
              "      <th>skill2</th>\n",
              "      <th>skill3</th>\n",
              "      <th>skill4</th>\n",
              "      <th>skill5</th>\n",
              "      <th>skill6</th>\n",
              "      <th>skill7</th>\n",
              "      <th>skill8</th>\n",
              "      <th>skill9</th>\n",
              "      <th>...</th>\n",
              "      <th>oppskill2</th>\n",
              "      <th>oppskill3</th>\n",
              "      <th>oppskill4</th>\n",
              "      <th>oppskill5</th>\n",
              "      <th>oppskill6</th>\n",
              "      <th>oppskill7</th>\n",
              "      <th>oppskill8</th>\n",
              "      <th>oppskill9</th>\n",
              "      <th>oppskill10</th>\n",
              "      <th>res</th>\n",
              "    </tr>\n",
              "    <tr>\n",
              "      <th>skill10</th>\n",
              "      <th></th>\n",
              "      <th></th>\n",
              "      <th></th>\n",
              "      <th></th>\n",
              "      <th></th>\n",
              "      <th></th>\n",
              "      <th></th>\n",
              "      <th></th>\n",
              "      <th></th>\n",
              "      <th></th>\n",
              "      <th></th>\n",
              "      <th></th>\n",
              "      <th></th>\n",
              "      <th></th>\n",
              "      <th></th>\n",
              "      <th></th>\n",
              "      <th></th>\n",
              "      <th></th>\n",
              "      <th></th>\n",
              "      <th></th>\n",
              "      <th></th>\n",
              "    </tr>\n",
              "  </thead>\n",
              "  <tbody>\n",
              "    <tr>\n",
              "      <th>-1</th>\n",
              "      <td>1004183</td>\n",
              "      <td>1004183</td>\n",
              "      <td>1004183</td>\n",
              "      <td>1004183</td>\n",
              "      <td>1004183</td>\n",
              "      <td>1004183</td>\n",
              "      <td>1004183</td>\n",
              "      <td>1004183</td>\n",
              "      <td>1004183</td>\n",
              "      <td>1004183</td>\n",
              "      <td>...</td>\n",
              "      <td>1004183</td>\n",
              "      <td>1004183</td>\n",
              "      <td>1004183</td>\n",
              "      <td>1004183</td>\n",
              "      <td>1004183</td>\n",
              "      <td>1004183</td>\n",
              "      <td>1004183</td>\n",
              "      <td>1004183</td>\n",
              "      <td>1004183</td>\n",
              "      <td>1004183</td>\n",
              "    </tr>\n",
              "  </tbody>\n",
              "</table>\n",
              "<p>1 rows × 21 columns</p>\n",
              "</div>"
            ],
            "text/plain": [
              "           first   skill1   skill2   skill3   skill4   skill5   skill6  \\\n",
              "skill10                                                                  \n",
              "-1       1004183  1004183  1004183  1004183  1004183  1004183  1004183   \n",
              "\n",
              "          skill7   skill8   skill9  ...  oppskill2  oppskill3  oppskill4  \\\n",
              "skill10                             ...                                    \n",
              "-1       1004183  1004183  1004183  ...    1004183    1004183    1004183   \n",
              "\n",
              "         oppskill5  oppskill6  oppskill7  oppskill8  oppskill9  oppskill10  \\\n",
              "skill10                                                                      \n",
              "-1         1004183    1004183    1004183    1004183    1004183     1004183   \n",
              "\n",
              "             res  \n",
              "skill10           \n",
              "-1       1004183  \n",
              "\n",
              "[1 rows x 21 columns]"
            ]
          },
          "execution_count": 5,
          "metadata": {},
          "output_type": "execute_result"
        }
      ],
      "source": [
        "df.groupby('skill10').count()"
      ]
    },
    {
      "cell_type": "code",
      "execution_count": 6,
      "metadata": {
        "colab": {
          "base_uri": "https://localhost:8080/",
          "height": 459
        },
        "id": "VU0wLGmJoowb",
        "outputId": "49a2180f-98dd-4837-8def-5c7a70f12d06"
      },
      "outputs": [
        {
          "data": {
            "text/plain": [
              "0         -1\n",
              "1         -1\n",
              "2         -1\n",
              "3         -1\n",
              "4         -1\n",
              "          ..\n",
              "1004178   -1\n",
              "1004179   -1\n",
              "1004180   -1\n",
              "1004181   -1\n",
              "1004182   -1\n",
              "Name: skill10, Length: 1004183, dtype: int64"
            ]
          },
          "execution_count": 6,
          "metadata": {},
          "output_type": "execute_result"
        }
      ],
      "source": [
        "df.pop('skill10')\n",
        "# df.pop('oppskill10')"
      ]
    },
    {
      "cell_type": "code",
      "execution_count": 7,
      "metadata": {
        "id": "Jy3uJhG3nE_U"
      },
      "outputs": [],
      "source": [
        "target = df.pop('res')"
      ]
    },
    {
      "cell_type": "code",
      "execution_count": 8,
      "metadata": {
        "id": "R4owBPm0mj5I"
      },
      "outputs": [],
      "source": [
        "binary_feature_names = ['first']\n",
        "categorical_feature_names = [\n",
        "    'skill1',\n",
        "    'skill2',\n",
        "    'skill3',\n",
        "    'skill4',\n",
        "    'skill5',\n",
        "    'skill6',\n",
        "    'skill7',\n",
        "    'skill8',\n",
        "    'skill9',\n",
        "    'oppskill1',\n",
        "    'oppskill2',\n",
        "    'oppskill3',\n",
        "    'oppskill4',\n",
        "    'oppskill5',\n",
        "    'oppskill6',\n",
        "    'oppskill7',\n",
        "    'oppskill8',\n",
        "    'oppskill9',\n",
        "    'oppskill10',\n",
        "]"
      ]
    },
    {
      "cell_type": "code",
      "execution_count": 9,
      "metadata": {
        "colab": {
          "base_uri": "https://localhost:8080/"
        },
        "id": "M-BXwwHpz7jc",
        "outputId": "5721af8f-07cb-4121-9c70-d2072c34862b"
      },
      "outputs": [],
      "source": [
        "!pip install -q -U keras-tuner\n"
      ]
    },
    {
      "cell_type": "code",
      "execution_count": 10,
      "metadata": {
        "id": "dFA2yJ4GmzAY"
      },
      "outputs": [
        {
          "name": "stderr",
          "output_type": "stream",
          "text": [
            "2024-10-22 22:32:30.494562: I external/local_xla/xla/tsl/cuda/cudart_stub.cc:32] Could not find cuda drivers on your machine, GPU will not be used.\n",
            "2024-10-22 22:32:30.654709: I external/local_xla/xla/tsl/cuda/cudart_stub.cc:32] Could not find cuda drivers on your machine, GPU will not be used.\n",
            "2024-10-22 22:32:30.813640: E external/local_xla/xla/stream_executor/cuda/cuda_fft.cc:485] Unable to register cuFFT factory: Attempting to register factory for plugin cuFFT when one has already been registered\n",
            "2024-10-22 22:32:30.959579: E external/local_xla/xla/stream_executor/cuda/cuda_dnn.cc:8454] Unable to register cuDNN factory: Attempting to register factory for plugin cuDNN when one has already been registered\n",
            "2024-10-22 22:32:30.997691: E external/local_xla/xla/stream_executor/cuda/cuda_blas.cc:1452] Unable to register cuBLAS factory: Attempting to register factory for plugin cuBLAS when one has already been registered\n",
            "2024-10-22 22:32:31.254290: I tensorflow/core/platform/cpu_feature_guard.cc:210] This TensorFlow binary is optimized to use available CPU instructions in performance-critical operations.\n",
            "To enable the following instructions: AVX2 FMA, in other operations, rebuild TensorFlow with the appropriate compiler flags.\n",
            "2024-10-22 22:32:34.193163: W tensorflow/compiler/tf2tensorrt/utils/py_utils.cc:38] TF-TRT Warning: Could not find TensorRT\n"
          ]
        }
      ],
      "source": [
        "import tensorflow as tf\n",
        "import keras_tuner as kt\n",
        "\n",
        "inputs = {}\n",
        "for name, column in df.items():\n",
        "  if type(column[0]) == str:\n",
        "    dtype = tf.string\n",
        "  elif (name in categorical_feature_names or\n",
        "        name in binary_feature_names):\n",
        "    dtype = tf.int64\n",
        "  else:\n",
        "    dtype = tf.float32\n",
        "\n",
        "  inputs[name] = tf.keras.Input(shape=(1,), name=name, dtype=dtype)\n"
      ]
    },
    {
      "cell_type": "code",
      "execution_count": 11,
      "metadata": {
        "colab": {
          "base_uri": "https://localhost:8080/"
        },
        "id": "kdPrqKxUnejI",
        "outputId": "2f267c68-1579-48d8-8f66-36ce8a20d469"
      },
      "outputs": [
        {
          "data": {
            "text/plain": [
              "{'first': <KerasTensor shape=(None, 1), dtype=int64, sparse=False, name=first>,\n",
              " 'skill1': <KerasTensor shape=(None, 1), dtype=int64, sparse=False, name=skill1>,\n",
              " 'skill2': <KerasTensor shape=(None, 1), dtype=int64, sparse=False, name=skill2>,\n",
              " 'skill3': <KerasTensor shape=(None, 1), dtype=int64, sparse=False, name=skill3>,\n",
              " 'skill4': <KerasTensor shape=(None, 1), dtype=int64, sparse=False, name=skill4>,\n",
              " 'skill5': <KerasTensor shape=(None, 1), dtype=int64, sparse=False, name=skill5>,\n",
              " 'skill6': <KerasTensor shape=(None, 1), dtype=int64, sparse=False, name=skill6>,\n",
              " 'skill7': <KerasTensor shape=(None, 1), dtype=int64, sparse=False, name=skill7>,\n",
              " 'skill8': <KerasTensor shape=(None, 1), dtype=int64, sparse=False, name=skill8>,\n",
              " 'skill9': <KerasTensor shape=(None, 1), dtype=int64, sparse=False, name=skill9>,\n",
              " 'oppskill1': <KerasTensor shape=(None, 1), dtype=int64, sparse=False, name=oppskill1>,\n",
              " 'oppskill2': <KerasTensor shape=(None, 1), dtype=int64, sparse=False, name=oppskill2>,\n",
              " 'oppskill3': <KerasTensor shape=(None, 1), dtype=int64, sparse=False, name=oppskill3>,\n",
              " 'oppskill4': <KerasTensor shape=(None, 1), dtype=int64, sparse=False, name=oppskill4>,\n",
              " 'oppskill5': <KerasTensor shape=(None, 1), dtype=int64, sparse=False, name=oppskill5>,\n",
              " 'oppskill6': <KerasTensor shape=(None, 1), dtype=int64, sparse=False, name=oppskill6>,\n",
              " 'oppskill7': <KerasTensor shape=(None, 1), dtype=int64, sparse=False, name=oppskill7>,\n",
              " 'oppskill8': <KerasTensor shape=(None, 1), dtype=int64, sparse=False, name=oppskill8>,\n",
              " 'oppskill9': <KerasTensor shape=(None, 1), dtype=int64, sparse=False, name=oppskill9>,\n",
              " 'oppskill10': <KerasTensor shape=(None, 1), dtype=int64, sparse=False, name=oppskill10>}"
            ]
          },
          "execution_count": 11,
          "metadata": {},
          "output_type": "execute_result"
        }
      ],
      "source": [
        "inputs"
      ]
    },
    {
      "cell_type": "code",
      "execution_count": 12,
      "metadata": {
        "colab": {
          "base_uri": "https://localhost:8080/"
        },
        "id": "DmRVn_aQoAV2",
        "outputId": "6f5558b6-3c44-4b5c-a142-ad1c1ff52cc9"
      },
      "outputs": [
        {
          "data": {
            "text/plain": [
              "[<KerasTensor shape=(None, 1), dtype=int64, sparse=False, name=first>]"
            ]
          },
          "execution_count": 12,
          "metadata": {},
          "output_type": "execute_result"
        }
      ],
      "source": [
        "preprocessed = []\n",
        "\n",
        "for name in binary_feature_names:\n",
        "  inp = inputs[name]\n",
        "  preprocessed.append(inp)\n",
        "\n",
        "preprocessed"
      ]
    },
    {
      "cell_type": "code",
      "execution_count": 13,
      "metadata": {
        "colab": {
          "base_uri": "https://localhost:8080/"
        },
        "id": "mGrt2uHloTT5",
        "outputId": "62a14bfd-8e4f-4772-dc1e-b71968b498e4"
      },
      "outputs": [
        {
          "name": "stdout",
          "output_type": "stream",
          "text": [
            "name: skill1\n",
            "vocab: [-1, 0, 2]\n",
            "\n",
            "name: skill2\n",
            "vocab: [-1, 0]\n",
            "\n",
            "name: skill3\n",
            "vocab: [-1, 0, 1, 2]\n",
            "\n",
            "name: skill4\n",
            "vocab: [-1, 0, 1, 2]\n",
            "\n",
            "name: skill5\n",
            "vocab: [-1, 0, 1, 2]\n",
            "\n",
            "name: skill6\n",
            "vocab: [-1, 0, 1, 2]\n",
            "\n",
            "name: skill7\n",
            "vocab: [-1, 0, 1, 2]\n",
            "\n",
            "name: skill8\n",
            "vocab: [-1, 0, 1, 2]\n",
            "\n",
            "name: skill9\n",
            "vocab: [-1, 0, 1]\n",
            "\n",
            "name: oppskill1\n",
            "vocab: [-1, 0, 1, 2, 3]\n",
            "\n",
            "name: oppskill2\n",
            "vocab: [-1, 0, 1, 2, 3]\n",
            "\n",
            "name: oppskill3\n",
            "vocab: [-1, 0, 1, 2, 3]\n",
            "\n",
            "name: oppskill4\n",
            "vocab: [-1, 0, 1, 2, 3]\n",
            "\n",
            "name: oppskill5\n",
            "vocab: [-1, 0, 1, 2, 3]\n",
            "\n",
            "name: oppskill6\n",
            "vocab: [-1, 0, 1, 2, 3]\n",
            "\n",
            "name: oppskill7\n",
            "vocab: [-1, 0, 1, 2, 3]\n",
            "\n",
            "name: oppskill8\n",
            "vocab: [-1, 0, 1, 2, 3]\n",
            "\n",
            "name: oppskill9\n",
            "vocab: [-1, 0, 1, 2, 3]\n",
            "\n",
            "name: oppskill10\n",
            "vocab: [-1, 0, 1, 2, 3]\n",
            "\n"
          ]
        }
      ],
      "source": [
        "for name in categorical_feature_names:\n",
        "  vocab = sorted(set(df[name]))\n",
        "  print(f'name: {name}')\n",
        "  print(f'vocab: {vocab}\\n')\n",
        "\n",
        "  if type(vocab[0]) is str:\n",
        "    lookup = tf.keras.layers.StringLookup(vocabulary=vocab, output_mode='one_hot')\n",
        "  else:\n",
        "    lookup = tf.keras.layers.IntegerLookup(vocabulary=vocab, output_mode='one_hot')\n",
        "\n",
        "  x = inputs[name]\n",
        "  x = lookup(x)\n",
        "  preprocessed.append(x)\n"
      ]
    },
    {
      "cell_type": "code",
      "execution_count": 14,
      "metadata": {
        "colab": {
          "base_uri": "https://localhost:8080/"
        },
        "id": "da9uj4Hir2MH",
        "outputId": "e920e081-1542-428a-dcb2-beaf4f344c17"
      },
      "outputs": [
        {
          "data": {
            "text/plain": [
              "[<KerasTensor shape=(None, 1), dtype=int64, sparse=False, name=first>,\n",
              " <KerasTensor shape=(None, 3), dtype=float32, sparse=False, name=keras_tensor>,\n",
              " <KerasTensor shape=(None, 2), dtype=float32, sparse=False, name=keras_tensor_1>,\n",
              " <KerasTensor shape=(None, 4), dtype=float32, sparse=False, name=keras_tensor_2>,\n",
              " <KerasTensor shape=(None, 4), dtype=float32, sparse=False, name=keras_tensor_3>,\n",
              " <KerasTensor shape=(None, 4), dtype=float32, sparse=False, name=keras_tensor_4>,\n",
              " <KerasTensor shape=(None, 4), dtype=float32, sparse=False, name=keras_tensor_5>,\n",
              " <KerasTensor shape=(None, 4), dtype=float32, sparse=False, name=keras_tensor_6>,\n",
              " <KerasTensor shape=(None, 4), dtype=float32, sparse=False, name=keras_tensor_7>,\n",
              " <KerasTensor shape=(None, 3), dtype=float32, sparse=False, name=keras_tensor_8>,\n",
              " <KerasTensor shape=(None, 5), dtype=float32, sparse=False, name=keras_tensor_9>,\n",
              " <KerasTensor shape=(None, 5), dtype=float32, sparse=False, name=keras_tensor_10>,\n",
              " <KerasTensor shape=(None, 5), dtype=float32, sparse=False, name=keras_tensor_11>,\n",
              " <KerasTensor shape=(None, 5), dtype=float32, sparse=False, name=keras_tensor_12>,\n",
              " <KerasTensor shape=(None, 5), dtype=float32, sparse=False, name=keras_tensor_13>,\n",
              " <KerasTensor shape=(None, 5), dtype=float32, sparse=False, name=keras_tensor_14>,\n",
              " <KerasTensor shape=(None, 5), dtype=float32, sparse=False, name=keras_tensor_15>,\n",
              " <KerasTensor shape=(None, 5), dtype=float32, sparse=False, name=keras_tensor_16>,\n",
              " <KerasTensor shape=(None, 5), dtype=float32, sparse=False, name=keras_tensor_17>,\n",
              " <KerasTensor shape=(None, 5), dtype=float32, sparse=False, name=keras_tensor_18>]"
            ]
          },
          "execution_count": 14,
          "metadata": {},
          "output_type": "execute_result"
        }
      ],
      "source": [
        "preprocessed"
      ]
    },
    {
      "cell_type": "code",
      "execution_count": 15,
      "metadata": {
        "colab": {
          "base_uri": "https://localhost:8080/"
        },
        "id": "ge7FNTKrsIMr",
        "outputId": "25ae890c-0572-427e-f66e-a73fd9d2ca0b"
      },
      "outputs": [
        {
          "data": {
            "text/plain": [
              "<KerasTensor shape=(None, 83), dtype=float32, sparse=False, name=keras_tensor_19>"
            ]
          },
          "execution_count": 15,
          "metadata": {},
          "output_type": "execute_result"
        }
      ],
      "source": [
        "preprocessed_result = tf.keras.layers.Concatenate(axis=1)(preprocessed)\n",
        "preprocessed_result"
      ]
    },
    {
      "cell_type": "code",
      "execution_count": 16,
      "metadata": {
        "id": "lwB9AJ5ZsLty"
      },
      "outputs": [],
      "source": [
        "preprocessor = tf.keras.Model(inputs, preprocessed_result)"
      ]
    },
    {
      "cell_type": "code",
      "execution_count": 17,
      "metadata": {
        "colab": {
          "base_uri": "https://localhost:8080/"
        },
        "id": "eOCAcLr_sU3l",
        "outputId": "f753bdfb-7ffb-4afd-fdac-4255d6ca8968"
      },
      "outputs": [
        {
          "data": {
            "text/plain": [
              "<tf.Tensor: shape=(1, 83), dtype=int64, numpy=\n",
              "array([[0, 0, 0, 1, 0, 1, 0, 1, 0, 0, 0, 1, 0, 0, 0, 1, 0, 0, 0, 0, 0, 1,\n",
              "        0, 1, 0, 0, 0, 1, 0, 0, 1, 0, 0, 0, 1, 0, 0, 0, 0, 1, 0, 0, 0, 0,\n",
              "        1, 0, 0, 0, 0, 1, 0, 0, 0, 0, 1, 0, 0, 0, 0, 1, 0, 0, 0, 0, 1, 0,\n",
              "        0, 0, 0, 1, 0, 0, 0, 0, 1, 0, 0, 0, 1, 0, 0, 0, 0]])>"
            ]
          },
          "execution_count": 17,
          "metadata": {},
          "output_type": "execute_result"
        }
      ],
      "source": [
        "preprocessor(dict(df.iloc[:1]))\n"
      ]
    },
    {
      "cell_type": "code",
      "execution_count": 18,
      "metadata": {
        "colab": {
          "base_uri": "https://localhost:8080/"
        },
        "id": "73dJTkpmswjg",
        "outputId": "3061f43a-9708-435b-f12c-8175a23f6257"
      },
      "outputs": [
        {
          "data": {
            "text/plain": [
              "{'first': <KerasTensor shape=(None, 1), dtype=int64, sparse=False, name=first>,\n",
              " 'skill1': <KerasTensor shape=(None, 1), dtype=int64, sparse=False, name=skill1>,\n",
              " 'skill2': <KerasTensor shape=(None, 1), dtype=int64, sparse=False, name=skill2>,\n",
              " 'skill3': <KerasTensor shape=(None, 1), dtype=int64, sparse=False, name=skill3>,\n",
              " 'skill4': <KerasTensor shape=(None, 1), dtype=int64, sparse=False, name=skill4>,\n",
              " 'skill5': <KerasTensor shape=(None, 1), dtype=int64, sparse=False, name=skill5>,\n",
              " 'skill6': <KerasTensor shape=(None, 1), dtype=int64, sparse=False, name=skill6>,\n",
              " 'skill7': <KerasTensor shape=(None, 1), dtype=int64, sparse=False, name=skill7>,\n",
              " 'skill8': <KerasTensor shape=(None, 1), dtype=int64, sparse=False, name=skill8>,\n",
              " 'skill9': <KerasTensor shape=(None, 1), dtype=int64, sparse=False, name=skill9>,\n",
              " 'oppskill1': <KerasTensor shape=(None, 1), dtype=int64, sparse=False, name=oppskill1>,\n",
              " 'oppskill2': <KerasTensor shape=(None, 1), dtype=int64, sparse=False, name=oppskill2>,\n",
              " 'oppskill3': <KerasTensor shape=(None, 1), dtype=int64, sparse=False, name=oppskill3>,\n",
              " 'oppskill4': <KerasTensor shape=(None, 1), dtype=int64, sparse=False, name=oppskill4>,\n",
              " 'oppskill5': <KerasTensor shape=(None, 1), dtype=int64, sparse=False, name=oppskill5>,\n",
              " 'oppskill6': <KerasTensor shape=(None, 1), dtype=int64, sparse=False, name=oppskill6>,\n",
              " 'oppskill7': <KerasTensor shape=(None, 1), dtype=int64, sparse=False, name=oppskill7>,\n",
              " 'oppskill8': <KerasTensor shape=(None, 1), dtype=int64, sparse=False, name=oppskill8>,\n",
              " 'oppskill9': <KerasTensor shape=(None, 1), dtype=int64, sparse=False, name=oppskill9>,\n",
              " 'oppskill10': <KerasTensor shape=(None, 1), dtype=int64, sparse=False, name=oppskill10>}"
            ]
          },
          "execution_count": 18,
          "metadata": {},
          "output_type": "execute_result"
        }
      ],
      "source": [
        "inputs"
      ]
    },
    {
      "cell_type": "code",
      "execution_count": 19,
      "metadata": {
        "colab": {
          "base_uri": "https://localhost:8080/"
        },
        "id": "yN30bxV7s01b",
        "outputId": "b6805be0-17ba-4a2d-931f-f9c614b9903a"
      },
      "outputs": [
        {
          "data": {
            "text/plain": [
              "<KerasTensor shape=(None, 83), dtype=float32, sparse=False, name=keras_tensor_20>"
            ]
          },
          "execution_count": 19,
          "metadata": {},
          "output_type": "execute_result"
        }
      ],
      "source": [
        "x = preprocessor(inputs)\n",
        "x"
      ]
    },
    {
      "cell_type": "code",
      "execution_count": 19,
      "metadata": {
        "id": "Lsk3LSpjs7bs"
      },
      "outputs": [],
      "source": [
        "# result = body(x)\n",
        "# result"
      ]
    },
    {
      "cell_type": "code",
      "execution_count": 20,
      "metadata": {
        "colab": {
          "base_uri": "https://localhost:8080/"
        },
        "id": "dCgQUxjv4oeU",
        "outputId": "e5297d21-803c-4338-a819-61daaf767729"
      },
      "outputs": [
        {
          "name": "stdout",
          "output_type": "stream",
          "text": [
            "rm: cannot remove 'my_dir': No such file or directory\n"
          ]
        }
      ],
      "source": [
        "!rm -r my_dir"
      ]
    },
    {
      "cell_type": "code",
      "execution_count": 20,
      "metadata": {
        "id": "TGKvhJT8Ezhd"
      },
      "outputs": [],
      "source": [
        "def build_model(units, layers, lr):\n",
        "    body = tf.keras.Sequential()\n",
        "\n",
        "    for i in range(layers):\n",
        "        body.add(tf.keras.layers.Dense(units, activation='relu'))\n",
        "\n",
        "    body.add(tf.keras.layers.Dense(4))\n",
        "\n",
        "    result = body(x)\n",
        "    model = tf.keras.Model(inputs, result)\n",
        "    model.compile(optimizer=tf.keras.optimizers.Adam(learning_rate=lr),\n",
        "                loss=tf.keras.losses.SparseCategoricalCrossentropy(from_logits=True),\n",
        "                metrics=['accuracy'])\n",
        "\n",
        "    return model"
      ]
    },
    {
      "cell_type": "code",
      "execution_count": 21,
      "metadata": {
        "id": "ehCsKeqos4nR"
      },
      "outputs": [],
      "source": [
        "def model_builder(hp):\n",
        "    hp_units = hp.Int('units', min_value=256, max_value=512, step=32)\n",
        "    layers = hp.Choice('layers', values=[2, 3, 4])\n",
        "    hp_learning_rate = hp.Choice('learning_rate', values=[1e-2, 1e-3, 1e-4])\n",
        "\n",
        "    return build_model(hp_units, layers, hp_learning_rate)\n"
      ]
    },
    {
      "cell_type": "code",
      "execution_count": 32,
      "metadata": {
        "id": "ueVjN9Rh1hzD"
      },
      "outputs": [],
      "source": [
        "tuner = kt.Hyperband(model_builder,\n",
        "                    #  objective='val_accuracy',\n",
        "                     objective='accuracy',\n",
        "                     max_epochs=100,\n",
        "                     factor=3,\n",
        "                     directory='milana-vs-ruby',\n",
        "                     project_name='battler-ml')\n"
      ]
    },
    {
      "cell_type": "code",
      "execution_count": 33,
      "metadata": {
        "id": "9hp1mQCAtIWI"
      },
      "outputs": [],
      "source": [
        "# stop_early = tf.keras.callbacks.EarlyStopping(monitor='val_loss', patience=5)\n",
        "stop_early = tf.keras.callbacks.EarlyStopping(monitor='loss', patience=5)"
      ]
    },
    {
      "cell_type": "code",
      "execution_count": 34,
      "metadata": {
        "colab": {
          "base_uri": "https://localhost:8080/",
          "height": 740
        },
        "id": "04f1c-vg1vwA",
        "outputId": "e50c8c2a-0776-4065-ca36-dfdef0648d09"
      },
      "outputs": [
        {
          "name": "stdout",
          "output_type": "stream",
          "text": [
            "Trial 7 Complete [00h 09m 44s]\n",
            "accuracy: 0.9994264245033264\n",
            "\n",
            "Best accuracy So Far: 0.9994264245033264\n",
            "Total elapsed time: 00h 47m 12s\n",
            "\n",
            "Search: Running Trial #8\n",
            "\n",
            "Value             |Best Value So Far |Hyperparameter\n",
            "384               |480               |units\n",
            "4                 |3                 |layers\n",
            "0.01              |0.0001            |learning_rate\n",
            "2                 |2                 |tuner/epochs\n",
            "0                 |0                 |tuner/initial_epoch\n",
            "4                 |4                 |tuner/bracket\n",
            "0                 |0                 |tuner/round\n",
            "\n",
            "Epoch 1/2\n",
            "\u001b[1m 3128/31381\u001b[0m \u001b[32m━\u001b[0m\u001b[37m━━━━━━━━━━━━━━━━━━━\u001b[0m \u001b[1m4:08\u001b[0m 9ms/step - accuracy: 0.9460 - loss: 0.1318"
          ]
        },
        {
          "ename": "KeyboardInterrupt",
          "evalue": "",
          "output_type": "error",
          "traceback": [
            "\u001b[0;31m---------------------------------------------------------------------------\u001b[0m",
            "\u001b[0;31mKeyboardInterrupt\u001b[0m                         Traceback (most recent call last)",
            "Cell \u001b[0;32mIn[34], line 2\u001b[0m\n\u001b[1;32m      1\u001b[0m \u001b[38;5;66;03m# tuner.search(dict(df), target, epochs=100, validation_split=0.2, callbacks=[stop_early])\u001b[39;00m\n\u001b[0;32m----> 2\u001b[0m \u001b[43mtuner\u001b[49m\u001b[38;5;241;43m.\u001b[39;49m\u001b[43msearch\u001b[49m\u001b[43m(\u001b[49m\u001b[38;5;28;43mdict\u001b[39;49m\u001b[43m(\u001b[49m\u001b[43mdf\u001b[49m\u001b[43m)\u001b[49m\u001b[43m,\u001b[49m\u001b[43m \u001b[49m\u001b[43mtarget\u001b[49m\u001b[43m,\u001b[49m\u001b[43m \u001b[49m\u001b[43mepochs\u001b[49m\u001b[38;5;241;43m=\u001b[39;49m\u001b[38;5;241;43m100\u001b[39;49m\u001b[43m,\u001b[49m\u001b[43m \u001b[49m\u001b[43mcallbacks\u001b[49m\u001b[38;5;241;43m=\u001b[39;49m\u001b[43m[\u001b[49m\u001b[43mstop_early\u001b[49m\u001b[43m]\u001b[49m\u001b[43m)\u001b[49m\n\u001b[1;32m      4\u001b[0m \u001b[38;5;66;03m# Get the optimal hyperparameters\u001b[39;00m\n\u001b[1;32m      5\u001b[0m best_hps\u001b[38;5;241m=\u001b[39mtuner\u001b[38;5;241m.\u001b[39mget_best_hyperparameters(num_trials\u001b[38;5;241m=\u001b[39m\u001b[38;5;241m1\u001b[39m)[\u001b[38;5;241m0\u001b[39m]\n",
            "File \u001b[0;32m~/Documents/coding/battler/.venv/lib/python3.9/site-packages/keras_tuner/src/engine/base_tuner.py:234\u001b[0m, in \u001b[0;36mBaseTuner.search\u001b[0;34m(self, *fit_args, **fit_kwargs)\u001b[0m\n\u001b[1;32m    231\u001b[0m         \u001b[38;5;28;01mcontinue\u001b[39;00m\n\u001b[1;32m    233\u001b[0m     \u001b[38;5;28mself\u001b[39m\u001b[38;5;241m.\u001b[39mon_trial_begin(trial)\n\u001b[0;32m--> 234\u001b[0m     \u001b[38;5;28;43mself\u001b[39;49m\u001b[38;5;241;43m.\u001b[39;49m\u001b[43m_try_run_and_update_trial\u001b[49m\u001b[43m(\u001b[49m\u001b[43mtrial\u001b[49m\u001b[43m,\u001b[49m\u001b[43m \u001b[49m\u001b[38;5;241;43m*\u001b[39;49m\u001b[43mfit_args\u001b[49m\u001b[43m,\u001b[49m\u001b[43m \u001b[49m\u001b[38;5;241;43m*\u001b[39;49m\u001b[38;5;241;43m*\u001b[39;49m\u001b[43mfit_kwargs\u001b[49m\u001b[43m)\u001b[49m\n\u001b[1;32m    235\u001b[0m     \u001b[38;5;28mself\u001b[39m\u001b[38;5;241m.\u001b[39mon_trial_end(trial)\n\u001b[1;32m    236\u001b[0m \u001b[38;5;28mself\u001b[39m\u001b[38;5;241m.\u001b[39mon_search_end()\n",
            "File \u001b[0;32m~/Documents/coding/battler/.venv/lib/python3.9/site-packages/keras_tuner/src/engine/base_tuner.py:274\u001b[0m, in \u001b[0;36mBaseTuner._try_run_and_update_trial\u001b[0;34m(self, trial, *fit_args, **fit_kwargs)\u001b[0m\n\u001b[1;32m    272\u001b[0m \u001b[38;5;28;01mdef\u001b[39;00m \u001b[38;5;21m_try_run_and_update_trial\u001b[39m(\u001b[38;5;28mself\u001b[39m, trial, \u001b[38;5;241m*\u001b[39mfit_args, \u001b[38;5;241m*\u001b[39m\u001b[38;5;241m*\u001b[39mfit_kwargs):\n\u001b[1;32m    273\u001b[0m     \u001b[38;5;28;01mtry\u001b[39;00m:\n\u001b[0;32m--> 274\u001b[0m         \u001b[38;5;28;43mself\u001b[39;49m\u001b[38;5;241;43m.\u001b[39;49m\u001b[43m_run_and_update_trial\u001b[49m\u001b[43m(\u001b[49m\u001b[43mtrial\u001b[49m\u001b[43m,\u001b[49m\u001b[43m \u001b[49m\u001b[38;5;241;43m*\u001b[39;49m\u001b[43mfit_args\u001b[49m\u001b[43m,\u001b[49m\u001b[43m \u001b[49m\u001b[38;5;241;43m*\u001b[39;49m\u001b[38;5;241;43m*\u001b[39;49m\u001b[43mfit_kwargs\u001b[49m\u001b[43m)\u001b[49m\n\u001b[1;32m    275\u001b[0m         trial\u001b[38;5;241m.\u001b[39mstatus \u001b[38;5;241m=\u001b[39m trial_module\u001b[38;5;241m.\u001b[39mTrialStatus\u001b[38;5;241m.\u001b[39mCOMPLETED\n\u001b[1;32m    276\u001b[0m         \u001b[38;5;28;01mreturn\u001b[39;00m\n",
            "File \u001b[0;32m~/Documents/coding/battler/.venv/lib/python3.9/site-packages/keras_tuner/src/engine/base_tuner.py:239\u001b[0m, in \u001b[0;36mBaseTuner._run_and_update_trial\u001b[0;34m(self, trial, *fit_args, **fit_kwargs)\u001b[0m\n\u001b[1;32m    238\u001b[0m \u001b[38;5;28;01mdef\u001b[39;00m \u001b[38;5;21m_run_and_update_trial\u001b[39m(\u001b[38;5;28mself\u001b[39m, trial, \u001b[38;5;241m*\u001b[39mfit_args, \u001b[38;5;241m*\u001b[39m\u001b[38;5;241m*\u001b[39mfit_kwargs):\n\u001b[0;32m--> 239\u001b[0m     results \u001b[38;5;241m=\u001b[39m \u001b[38;5;28;43mself\u001b[39;49m\u001b[38;5;241;43m.\u001b[39;49m\u001b[43mrun_trial\u001b[49m\u001b[43m(\u001b[49m\u001b[43mtrial\u001b[49m\u001b[43m,\u001b[49m\u001b[43m \u001b[49m\u001b[38;5;241;43m*\u001b[39;49m\u001b[43mfit_args\u001b[49m\u001b[43m,\u001b[49m\u001b[43m \u001b[49m\u001b[38;5;241;43m*\u001b[39;49m\u001b[38;5;241;43m*\u001b[39;49m\u001b[43mfit_kwargs\u001b[49m\u001b[43m)\u001b[49m\n\u001b[1;32m    240\u001b[0m     \u001b[38;5;28;01mif\u001b[39;00m \u001b[38;5;28mself\u001b[39m\u001b[38;5;241m.\u001b[39moracle\u001b[38;5;241m.\u001b[39mget_trial(trial\u001b[38;5;241m.\u001b[39mtrial_id)\u001b[38;5;241m.\u001b[39mmetrics\u001b[38;5;241m.\u001b[39mexists(\n\u001b[1;32m    241\u001b[0m         \u001b[38;5;28mself\u001b[39m\u001b[38;5;241m.\u001b[39moracle\u001b[38;5;241m.\u001b[39mobjective\u001b[38;5;241m.\u001b[39mname\n\u001b[1;32m    242\u001b[0m     ):\n\u001b[1;32m    243\u001b[0m         \u001b[38;5;66;03m# The oracle is updated by calling `self.oracle.update_trial()` in\u001b[39;00m\n\u001b[1;32m    244\u001b[0m         \u001b[38;5;66;03m# `Tuner.run_trial()`. For backward compatibility, we support this\u001b[39;00m\n\u001b[1;32m    245\u001b[0m         \u001b[38;5;66;03m# use case. No further action needed in this case.\u001b[39;00m\n\u001b[1;32m    246\u001b[0m         warnings\u001b[38;5;241m.\u001b[39mwarn(\n\u001b[1;32m    247\u001b[0m             \u001b[38;5;124m\"\u001b[39m\u001b[38;5;124mThe use case of calling \u001b[39m\u001b[38;5;124m\"\u001b[39m\n\u001b[1;32m    248\u001b[0m             \u001b[38;5;124m\"\u001b[39m\u001b[38;5;124m`self.oracle.update_trial(trial_id, metrics)` \u001b[39m\u001b[38;5;124m\"\u001b[39m\n\u001b[0;32m   (...)\u001b[0m\n\u001b[1;32m    254\u001b[0m             stacklevel\u001b[38;5;241m=\u001b[39m\u001b[38;5;241m2\u001b[39m,\n\u001b[1;32m    255\u001b[0m         )\n",
            "File \u001b[0;32m~/Documents/coding/battler/.venv/lib/python3.9/site-packages/keras_tuner/src/tuners/hyperband.py:427\u001b[0m, in \u001b[0;36mHyperband.run_trial\u001b[0;34m(self, trial, *fit_args, **fit_kwargs)\u001b[0m\n\u001b[1;32m    425\u001b[0m     fit_kwargs[\u001b[38;5;124m\"\u001b[39m\u001b[38;5;124mepochs\u001b[39m\u001b[38;5;124m\"\u001b[39m] \u001b[38;5;241m=\u001b[39m hp\u001b[38;5;241m.\u001b[39mvalues[\u001b[38;5;124m\"\u001b[39m\u001b[38;5;124mtuner/epochs\u001b[39m\u001b[38;5;124m\"\u001b[39m]\n\u001b[1;32m    426\u001b[0m     fit_kwargs[\u001b[38;5;124m\"\u001b[39m\u001b[38;5;124minitial_epoch\u001b[39m\u001b[38;5;124m\"\u001b[39m] \u001b[38;5;241m=\u001b[39m hp\u001b[38;5;241m.\u001b[39mvalues[\u001b[38;5;124m\"\u001b[39m\u001b[38;5;124mtuner/initial_epoch\u001b[39m\u001b[38;5;124m\"\u001b[39m]\n\u001b[0;32m--> 427\u001b[0m \u001b[38;5;28;01mreturn\u001b[39;00m \u001b[38;5;28;43msuper\u001b[39;49m\u001b[43m(\u001b[49m\u001b[43m)\u001b[49m\u001b[38;5;241;43m.\u001b[39;49m\u001b[43mrun_trial\u001b[49m\u001b[43m(\u001b[49m\u001b[43mtrial\u001b[49m\u001b[43m,\u001b[49m\u001b[43m \u001b[49m\u001b[38;5;241;43m*\u001b[39;49m\u001b[43mfit_args\u001b[49m\u001b[43m,\u001b[49m\u001b[43m \u001b[49m\u001b[38;5;241;43m*\u001b[39;49m\u001b[38;5;241;43m*\u001b[39;49m\u001b[43mfit_kwargs\u001b[49m\u001b[43m)\u001b[49m\n",
            "File \u001b[0;32m~/Documents/coding/battler/.venv/lib/python3.9/site-packages/keras_tuner/src/engine/tuner.py:314\u001b[0m, in \u001b[0;36mTuner.run_trial\u001b[0;34m(self, trial, *args, **kwargs)\u001b[0m\n\u001b[1;32m    312\u001b[0m     callbacks\u001b[38;5;241m.\u001b[39mappend(model_checkpoint)\n\u001b[1;32m    313\u001b[0m     copied_kwargs[\u001b[38;5;124m\"\u001b[39m\u001b[38;5;124mcallbacks\u001b[39m\u001b[38;5;124m\"\u001b[39m] \u001b[38;5;241m=\u001b[39m callbacks\n\u001b[0;32m--> 314\u001b[0m     obj_value \u001b[38;5;241m=\u001b[39m \u001b[38;5;28;43mself\u001b[39;49m\u001b[38;5;241;43m.\u001b[39;49m\u001b[43m_build_and_fit_model\u001b[49m\u001b[43m(\u001b[49m\u001b[43mtrial\u001b[49m\u001b[43m,\u001b[49m\u001b[43m \u001b[49m\u001b[38;5;241;43m*\u001b[39;49m\u001b[43margs\u001b[49m\u001b[43m,\u001b[49m\u001b[43m \u001b[49m\u001b[38;5;241;43m*\u001b[39;49m\u001b[38;5;241;43m*\u001b[39;49m\u001b[43mcopied_kwargs\u001b[49m\u001b[43m)\u001b[49m\n\u001b[1;32m    316\u001b[0m     histories\u001b[38;5;241m.\u001b[39mappend(obj_value)\n\u001b[1;32m    317\u001b[0m \u001b[38;5;28;01mreturn\u001b[39;00m histories\n",
            "File \u001b[0;32m~/Documents/coding/battler/.venv/lib/python3.9/site-packages/keras_tuner/src/engine/tuner.py:233\u001b[0m, in \u001b[0;36mTuner._build_and_fit_model\u001b[0;34m(self, trial, *args, **kwargs)\u001b[0m\n\u001b[1;32m    231\u001b[0m hp \u001b[38;5;241m=\u001b[39m trial\u001b[38;5;241m.\u001b[39mhyperparameters\n\u001b[1;32m    232\u001b[0m model \u001b[38;5;241m=\u001b[39m \u001b[38;5;28mself\u001b[39m\u001b[38;5;241m.\u001b[39m_try_build(hp)\n\u001b[0;32m--> 233\u001b[0m results \u001b[38;5;241m=\u001b[39m \u001b[38;5;28;43mself\u001b[39;49m\u001b[38;5;241;43m.\u001b[39;49m\u001b[43mhypermodel\u001b[49m\u001b[38;5;241;43m.\u001b[39;49m\u001b[43mfit\u001b[49m\u001b[43m(\u001b[49m\u001b[43mhp\u001b[49m\u001b[43m,\u001b[49m\u001b[43m \u001b[49m\u001b[43mmodel\u001b[49m\u001b[43m,\u001b[49m\u001b[43m \u001b[49m\u001b[38;5;241;43m*\u001b[39;49m\u001b[43margs\u001b[49m\u001b[43m,\u001b[49m\u001b[43m \u001b[49m\u001b[38;5;241;43m*\u001b[39;49m\u001b[38;5;241;43m*\u001b[39;49m\u001b[43mkwargs\u001b[49m\u001b[43m)\u001b[49m\n\u001b[1;32m    235\u001b[0m \u001b[38;5;66;03m# Save the build config for model loading later.\u001b[39;00m\n\u001b[1;32m    236\u001b[0m \u001b[38;5;28;01mif\u001b[39;00m backend\u001b[38;5;241m.\u001b[39mconfig\u001b[38;5;241m.\u001b[39mmulti_backend():\n",
            "File \u001b[0;32m~/Documents/coding/battler/.venv/lib/python3.9/site-packages/keras_tuner/src/engine/hypermodel.py:149\u001b[0m, in \u001b[0;36mHyperModel.fit\u001b[0;34m(self, hp, model, *args, **kwargs)\u001b[0m\n\u001b[1;32m    125\u001b[0m \u001b[38;5;28;01mdef\u001b[39;00m \u001b[38;5;21mfit\u001b[39m(\u001b[38;5;28mself\u001b[39m, hp, model, \u001b[38;5;241m*\u001b[39margs, \u001b[38;5;241m*\u001b[39m\u001b[38;5;241m*\u001b[39mkwargs):\n\u001b[1;32m    126\u001b[0m \u001b[38;5;250m    \u001b[39m\u001b[38;5;124;03m\"\"\"Train the model.\u001b[39;00m\n\u001b[1;32m    127\u001b[0m \n\u001b[1;32m    128\u001b[0m \u001b[38;5;124;03m    Args:\u001b[39;00m\n\u001b[0;32m   (...)\u001b[0m\n\u001b[1;32m    147\u001b[0m \u001b[38;5;124;03m        If return a float, it should be the `objective` value.\u001b[39;00m\n\u001b[1;32m    148\u001b[0m \u001b[38;5;124;03m    \"\"\"\u001b[39;00m\n\u001b[0;32m--> 149\u001b[0m     \u001b[38;5;28;01mreturn\u001b[39;00m \u001b[43mmodel\u001b[49m\u001b[38;5;241;43m.\u001b[39;49m\u001b[43mfit\u001b[49m\u001b[43m(\u001b[49m\u001b[38;5;241;43m*\u001b[39;49m\u001b[43margs\u001b[49m\u001b[43m,\u001b[49m\u001b[43m \u001b[49m\u001b[38;5;241;43m*\u001b[39;49m\u001b[38;5;241;43m*\u001b[39;49m\u001b[43mkwargs\u001b[49m\u001b[43m)\u001b[49m\n",
            "File \u001b[0;32m~/Documents/coding/battler/.venv/lib/python3.9/site-packages/keras/src/utils/traceback_utils.py:117\u001b[0m, in \u001b[0;36mfilter_traceback.<locals>.error_handler\u001b[0;34m(*args, **kwargs)\u001b[0m\n\u001b[1;32m    115\u001b[0m filtered_tb \u001b[38;5;241m=\u001b[39m \u001b[38;5;28;01mNone\u001b[39;00m\n\u001b[1;32m    116\u001b[0m \u001b[38;5;28;01mtry\u001b[39;00m:\n\u001b[0;32m--> 117\u001b[0m     \u001b[38;5;28;01mreturn\u001b[39;00m \u001b[43mfn\u001b[49m\u001b[43m(\u001b[49m\u001b[38;5;241;43m*\u001b[39;49m\u001b[43margs\u001b[49m\u001b[43m,\u001b[49m\u001b[43m \u001b[49m\u001b[38;5;241;43m*\u001b[39;49m\u001b[38;5;241;43m*\u001b[39;49m\u001b[43mkwargs\u001b[49m\u001b[43m)\u001b[49m\n\u001b[1;32m    118\u001b[0m \u001b[38;5;28;01mexcept\u001b[39;00m \u001b[38;5;167;01mException\u001b[39;00m \u001b[38;5;28;01mas\u001b[39;00m e:\n\u001b[1;32m    119\u001b[0m     filtered_tb \u001b[38;5;241m=\u001b[39m _process_traceback_frames(e\u001b[38;5;241m.\u001b[39m__traceback__)\n",
            "File \u001b[0;32m~/Documents/coding/battler/.venv/lib/python3.9/site-packages/keras/src/backend/tensorflow/trainer.py:320\u001b[0m, in \u001b[0;36mTensorFlowTrainer.fit\u001b[0;34m(self, x, y, batch_size, epochs, verbose, callbacks, validation_split, validation_data, shuffle, class_weight, sample_weight, initial_epoch, steps_per_epoch, validation_steps, validation_batch_size, validation_freq)\u001b[0m\n\u001b[1;32m    318\u001b[0m \u001b[38;5;28;01mfor\u001b[39;00m step, iterator \u001b[38;5;129;01min\u001b[39;00m epoch_iterator\u001b[38;5;241m.\u001b[39menumerate_epoch():\n\u001b[1;32m    319\u001b[0m     callbacks\u001b[38;5;241m.\u001b[39mon_train_batch_begin(step)\n\u001b[0;32m--> 320\u001b[0m     logs \u001b[38;5;241m=\u001b[39m \u001b[38;5;28;43mself\u001b[39;49m\u001b[38;5;241;43m.\u001b[39;49m\u001b[43mtrain_function\u001b[49m\u001b[43m(\u001b[49m\u001b[43miterator\u001b[49m\u001b[43m)\u001b[49m\n\u001b[1;32m    321\u001b[0m     callbacks\u001b[38;5;241m.\u001b[39mon_train_batch_end(step, logs)\n\u001b[1;32m    322\u001b[0m     \u001b[38;5;28;01mif\u001b[39;00m \u001b[38;5;28mself\u001b[39m\u001b[38;5;241m.\u001b[39mstop_training:\n",
            "File \u001b[0;32m~/Documents/coding/battler/.venv/lib/python3.9/site-packages/tensorflow/python/util/traceback_utils.py:150\u001b[0m, in \u001b[0;36mfilter_traceback.<locals>.error_handler\u001b[0;34m(*args, **kwargs)\u001b[0m\n\u001b[1;32m    148\u001b[0m filtered_tb \u001b[38;5;241m=\u001b[39m \u001b[38;5;28;01mNone\u001b[39;00m\n\u001b[1;32m    149\u001b[0m \u001b[38;5;28;01mtry\u001b[39;00m:\n\u001b[0;32m--> 150\u001b[0m   \u001b[38;5;28;01mreturn\u001b[39;00m \u001b[43mfn\u001b[49m\u001b[43m(\u001b[49m\u001b[38;5;241;43m*\u001b[39;49m\u001b[43margs\u001b[49m\u001b[43m,\u001b[49m\u001b[43m \u001b[49m\u001b[38;5;241;43m*\u001b[39;49m\u001b[38;5;241;43m*\u001b[39;49m\u001b[43mkwargs\u001b[49m\u001b[43m)\u001b[49m\n\u001b[1;32m    151\u001b[0m \u001b[38;5;28;01mexcept\u001b[39;00m \u001b[38;5;167;01mException\u001b[39;00m \u001b[38;5;28;01mas\u001b[39;00m e:\n\u001b[1;32m    152\u001b[0m   filtered_tb \u001b[38;5;241m=\u001b[39m _process_traceback_frames(e\u001b[38;5;241m.\u001b[39m__traceback__)\n",
            "File \u001b[0;32m~/Documents/coding/battler/.venv/lib/python3.9/site-packages/tensorflow/python/eager/polymorphic_function/polymorphic_function.py:833\u001b[0m, in \u001b[0;36mFunction.__call__\u001b[0;34m(self, *args, **kwds)\u001b[0m\n\u001b[1;32m    830\u001b[0m compiler \u001b[38;5;241m=\u001b[39m \u001b[38;5;124m\"\u001b[39m\u001b[38;5;124mxla\u001b[39m\u001b[38;5;124m\"\u001b[39m \u001b[38;5;28;01mif\u001b[39;00m \u001b[38;5;28mself\u001b[39m\u001b[38;5;241m.\u001b[39m_jit_compile \u001b[38;5;28;01melse\u001b[39;00m \u001b[38;5;124m\"\u001b[39m\u001b[38;5;124mnonXla\u001b[39m\u001b[38;5;124m\"\u001b[39m\n\u001b[1;32m    832\u001b[0m \u001b[38;5;28;01mwith\u001b[39;00m OptionalXlaContext(\u001b[38;5;28mself\u001b[39m\u001b[38;5;241m.\u001b[39m_jit_compile):\n\u001b[0;32m--> 833\u001b[0m   result \u001b[38;5;241m=\u001b[39m \u001b[38;5;28;43mself\u001b[39;49m\u001b[38;5;241;43m.\u001b[39;49m\u001b[43m_call\u001b[49m\u001b[43m(\u001b[49m\u001b[38;5;241;43m*\u001b[39;49m\u001b[43margs\u001b[49m\u001b[43m,\u001b[49m\u001b[43m \u001b[49m\u001b[38;5;241;43m*\u001b[39;49m\u001b[38;5;241;43m*\u001b[39;49m\u001b[43mkwds\u001b[49m\u001b[43m)\u001b[49m\n\u001b[1;32m    835\u001b[0m new_tracing_count \u001b[38;5;241m=\u001b[39m \u001b[38;5;28mself\u001b[39m\u001b[38;5;241m.\u001b[39mexperimental_get_tracing_count()\n\u001b[1;32m    836\u001b[0m without_tracing \u001b[38;5;241m=\u001b[39m (tracing_count \u001b[38;5;241m==\u001b[39m new_tracing_count)\n",
            "File \u001b[0;32m~/Documents/coding/battler/.venv/lib/python3.9/site-packages/tensorflow/python/eager/polymorphic_function/polymorphic_function.py:878\u001b[0m, in \u001b[0;36mFunction._call\u001b[0;34m(self, *args, **kwds)\u001b[0m\n\u001b[1;32m    875\u001b[0m \u001b[38;5;28mself\u001b[39m\u001b[38;5;241m.\u001b[39m_lock\u001b[38;5;241m.\u001b[39mrelease()\n\u001b[1;32m    876\u001b[0m \u001b[38;5;66;03m# In this case we have not created variables on the first call. So we can\u001b[39;00m\n\u001b[1;32m    877\u001b[0m \u001b[38;5;66;03m# run the first trace but we should fail if variables are created.\u001b[39;00m\n\u001b[0;32m--> 878\u001b[0m results \u001b[38;5;241m=\u001b[39m \u001b[43mtracing_compilation\u001b[49m\u001b[38;5;241;43m.\u001b[39;49m\u001b[43mcall_function\u001b[49m\u001b[43m(\u001b[49m\n\u001b[1;32m    879\u001b[0m \u001b[43m    \u001b[49m\u001b[43margs\u001b[49m\u001b[43m,\u001b[49m\u001b[43m \u001b[49m\u001b[43mkwds\u001b[49m\u001b[43m,\u001b[49m\u001b[43m \u001b[49m\u001b[38;5;28;43mself\u001b[39;49m\u001b[38;5;241;43m.\u001b[39;49m\u001b[43m_variable_creation_config\u001b[49m\n\u001b[1;32m    880\u001b[0m \u001b[43m\u001b[49m\u001b[43m)\u001b[49m\n\u001b[1;32m    881\u001b[0m \u001b[38;5;28;01mif\u001b[39;00m \u001b[38;5;28mself\u001b[39m\u001b[38;5;241m.\u001b[39m_created_variables:\n\u001b[1;32m    882\u001b[0m   \u001b[38;5;28;01mraise\u001b[39;00m \u001b[38;5;167;01mValueError\u001b[39;00m(\u001b[38;5;124m\"\u001b[39m\u001b[38;5;124mCreating variables on a non-first call to a function\u001b[39m\u001b[38;5;124m\"\u001b[39m\n\u001b[1;32m    883\u001b[0m                    \u001b[38;5;124m\"\u001b[39m\u001b[38;5;124m decorated with tf.function.\u001b[39m\u001b[38;5;124m\"\u001b[39m)\n",
            "File \u001b[0;32m~/Documents/coding/battler/.venv/lib/python3.9/site-packages/tensorflow/python/eager/polymorphic_function/tracing_compilation.py:139\u001b[0m, in \u001b[0;36mcall_function\u001b[0;34m(args, kwargs, tracing_options)\u001b[0m\n\u001b[1;32m    137\u001b[0m bound_args \u001b[38;5;241m=\u001b[39m function\u001b[38;5;241m.\u001b[39mfunction_type\u001b[38;5;241m.\u001b[39mbind(\u001b[38;5;241m*\u001b[39margs, \u001b[38;5;241m*\u001b[39m\u001b[38;5;241m*\u001b[39mkwargs)\n\u001b[1;32m    138\u001b[0m flat_inputs \u001b[38;5;241m=\u001b[39m function\u001b[38;5;241m.\u001b[39mfunction_type\u001b[38;5;241m.\u001b[39munpack_inputs(bound_args)\n\u001b[0;32m--> 139\u001b[0m \u001b[38;5;28;01mreturn\u001b[39;00m \u001b[43mfunction\u001b[49m\u001b[38;5;241;43m.\u001b[39;49m\u001b[43m_call_flat\u001b[49m\u001b[43m(\u001b[49m\u001b[43m  \u001b[49m\u001b[38;5;66;43;03m# pylint: disable=protected-access\u001b[39;49;00m\n\u001b[1;32m    140\u001b[0m \u001b[43m    \u001b[49m\u001b[43mflat_inputs\u001b[49m\u001b[43m,\u001b[49m\u001b[43m \u001b[49m\u001b[43mcaptured_inputs\u001b[49m\u001b[38;5;241;43m=\u001b[39;49m\u001b[43mfunction\u001b[49m\u001b[38;5;241;43m.\u001b[39;49m\u001b[43mcaptured_inputs\u001b[49m\n\u001b[1;32m    141\u001b[0m \u001b[43m\u001b[49m\u001b[43m)\u001b[49m\n",
            "File \u001b[0;32m~/Documents/coding/battler/.venv/lib/python3.9/site-packages/tensorflow/python/eager/polymorphic_function/concrete_function.py:1322\u001b[0m, in \u001b[0;36mConcreteFunction._call_flat\u001b[0;34m(self, tensor_inputs, captured_inputs)\u001b[0m\n\u001b[1;32m   1318\u001b[0m possible_gradient_type \u001b[38;5;241m=\u001b[39m gradients_util\u001b[38;5;241m.\u001b[39mPossibleTapeGradientTypes(args)\n\u001b[1;32m   1319\u001b[0m \u001b[38;5;28;01mif\u001b[39;00m (possible_gradient_type \u001b[38;5;241m==\u001b[39m gradients_util\u001b[38;5;241m.\u001b[39mPOSSIBLE_GRADIENT_TYPES_NONE\n\u001b[1;32m   1320\u001b[0m     \u001b[38;5;129;01mand\u001b[39;00m executing_eagerly):\n\u001b[1;32m   1321\u001b[0m   \u001b[38;5;66;03m# No tape is watching; skip to running the function.\u001b[39;00m\n\u001b[0;32m-> 1322\u001b[0m   \u001b[38;5;28;01mreturn\u001b[39;00m \u001b[38;5;28;43mself\u001b[39;49m\u001b[38;5;241;43m.\u001b[39;49m\u001b[43m_inference_function\u001b[49m\u001b[38;5;241;43m.\u001b[39;49m\u001b[43mcall_preflattened\u001b[49m\u001b[43m(\u001b[49m\u001b[43margs\u001b[49m\u001b[43m)\u001b[49m\n\u001b[1;32m   1323\u001b[0m forward_backward \u001b[38;5;241m=\u001b[39m \u001b[38;5;28mself\u001b[39m\u001b[38;5;241m.\u001b[39m_select_forward_and_backward_functions(\n\u001b[1;32m   1324\u001b[0m     args,\n\u001b[1;32m   1325\u001b[0m     possible_gradient_type,\n\u001b[1;32m   1326\u001b[0m     executing_eagerly)\n\u001b[1;32m   1327\u001b[0m forward_function, args_with_tangents \u001b[38;5;241m=\u001b[39m forward_backward\u001b[38;5;241m.\u001b[39mforward()\n",
            "File \u001b[0;32m~/Documents/coding/battler/.venv/lib/python3.9/site-packages/tensorflow/python/eager/polymorphic_function/atomic_function.py:217\u001b[0m, in \u001b[0;36mAtomicFunction.call_preflattened\u001b[0;34m(self, args)\u001b[0m\n\u001b[1;32m    215\u001b[0m \u001b[38;5;250m\u001b[39m\u001b[38;5;124;03m\"\"\"Calls with flattened tensor inputs and returns the structured output.\"\"\"\u001b[39;00m\n\u001b[1;32m    216\u001b[0m flat_outputs \u001b[38;5;241m=\u001b[39m \u001b[38;5;28mself\u001b[39m\u001b[38;5;241m.\u001b[39mcall_flat(\u001b[38;5;241m*\u001b[39margs)\n\u001b[0;32m--> 217\u001b[0m \u001b[38;5;28;01mreturn\u001b[39;00m \u001b[38;5;28;43mself\u001b[39;49m\u001b[38;5;241;43m.\u001b[39;49m\u001b[43mfunction_type\u001b[49m\u001b[38;5;241;43m.\u001b[39;49m\u001b[43mpack_output\u001b[49m\u001b[43m(\u001b[49m\u001b[43mflat_outputs\u001b[49m\u001b[43m)\u001b[49m\n",
            "File \u001b[0;32m~/Documents/coding/battler/.venv/lib/python3.9/site-packages/tensorflow/core/function/polymorphism/function_type.py:446\u001b[0m, in \u001b[0;36mFunctionType.pack_output\u001b[0;34m(self, flat_values)\u001b[0m\n\u001b[1;32m    444\u001b[0m   \u001b[38;5;28;01mraise\u001b[39;00m \u001b[38;5;167;01mValueError\u001b[39;00m(\u001b[38;5;124m\"\u001b[39m\u001b[38;5;124mCan not pack outputs for undefined output type.\u001b[39m\u001b[38;5;124m\"\u001b[39m)\n\u001b[1;32m    445\u001b[0m \u001b[38;5;28;01melse\u001b[39;00m:\n\u001b[0;32m--> 446\u001b[0m   \u001b[38;5;28;01mreturn\u001b[39;00m \u001b[38;5;28;43mself\u001b[39;49m\u001b[38;5;241;43m.\u001b[39;49m\u001b[43moutput\u001b[49m\u001b[38;5;241;43m.\u001b[39;49m\u001b[43mfrom_tensors\u001b[49m\u001b[43m(\u001b[49m\u001b[38;5;28;43miter\u001b[39;49m\u001b[43m(\u001b[49m\u001b[43mflat_values\u001b[49m\u001b[43m)\u001b[49m\u001b[43m)\u001b[49m\n",
            "File \u001b[0;32m~/Documents/coding/battler/.venv/lib/python3.9/site-packages/tensorflow/core/function/trace_type/default_types.py:762\u001b[0m, in \u001b[0;36mDict.from_tensors\u001b[0;34m(self, tensors)\u001b[0m\n\u001b[1;32m    759\u001b[0m \u001b[38;5;28;01mif\u001b[39;00m \u001b[38;5;28mself\u001b[39m\u001b[38;5;241m.\u001b[39m_placeholder_type \u001b[38;5;129;01mis\u001b[39;00m \u001b[38;5;28;01mNone\u001b[39;00m:\n\u001b[1;32m    760\u001b[0m   \u001b[38;5;28;01mraise\u001b[39;00m \u001b[38;5;167;01mValueError\u001b[39;00m(\u001b[38;5;124m\"\u001b[39m\u001b[38;5;124mPacking serialized Dict is not supported.\u001b[39m\u001b[38;5;124m\"\u001b[39m)\n\u001b[0;32m--> 762\u001b[0m sorted_traversal \u001b[38;5;241m=\u001b[39m {\n\u001b[1;32m    763\u001b[0m     key: \u001b[38;5;28mself\u001b[39m\u001b[38;5;241m.\u001b[39mmapping[key]\u001b[38;5;241m.\u001b[39mfrom_tensors(tensors)\n\u001b[1;32m    764\u001b[0m     \u001b[38;5;28;01mfor\u001b[39;00m key \u001b[38;5;129;01min\u001b[39;00m \u001b[38;5;28msorted\u001b[39m(\u001b[38;5;28mself\u001b[39m\u001b[38;5;241m.\u001b[39mmapping)\n\u001b[1;32m    765\u001b[0m }\n\u001b[1;32m    767\u001b[0m \u001b[38;5;28;01mif\u001b[39;00m \u001b[38;5;28mself\u001b[39m\u001b[38;5;241m.\u001b[39m_placeholder_type \u001b[38;5;129;01mis\u001b[39;00m collections\u001b[38;5;241m.\u001b[39mdefaultdict:\n\u001b[1;32m    768\u001b[0m   \u001b[38;5;28;01mreturn\u001b[39;00m {key: sorted_traversal[key] \u001b[38;5;28;01mfor\u001b[39;00m key \u001b[38;5;129;01min\u001b[39;00m \u001b[38;5;28mself\u001b[39m\u001b[38;5;241m.\u001b[39mmapping}\n",
            "File \u001b[0;32m~/Documents/coding/battler/.venv/lib/python3.9/site-packages/tensorflow/core/function/trace_type/default_types.py:763\u001b[0m, in \u001b[0;36m<dictcomp>\u001b[0;34m(.0)\u001b[0m\n\u001b[1;32m    759\u001b[0m \u001b[38;5;28;01mif\u001b[39;00m \u001b[38;5;28mself\u001b[39m\u001b[38;5;241m.\u001b[39m_placeholder_type \u001b[38;5;129;01mis\u001b[39;00m \u001b[38;5;28;01mNone\u001b[39;00m:\n\u001b[1;32m    760\u001b[0m   \u001b[38;5;28;01mraise\u001b[39;00m \u001b[38;5;167;01mValueError\u001b[39;00m(\u001b[38;5;124m\"\u001b[39m\u001b[38;5;124mPacking serialized Dict is not supported.\u001b[39m\u001b[38;5;124m\"\u001b[39m)\n\u001b[1;32m    762\u001b[0m sorted_traversal \u001b[38;5;241m=\u001b[39m {\n\u001b[0;32m--> 763\u001b[0m     key: \u001b[38;5;28;43mself\u001b[39;49m\u001b[38;5;241;43m.\u001b[39;49m\u001b[43mmapping\u001b[49m[key]\u001b[38;5;241m.\u001b[39mfrom_tensors(tensors)\n\u001b[1;32m    764\u001b[0m     \u001b[38;5;28;01mfor\u001b[39;00m key \u001b[38;5;129;01min\u001b[39;00m \u001b[38;5;28msorted\u001b[39m(\u001b[38;5;28mself\u001b[39m\u001b[38;5;241m.\u001b[39mmapping)\n\u001b[1;32m    765\u001b[0m }\n\u001b[1;32m    767\u001b[0m \u001b[38;5;28;01mif\u001b[39;00m \u001b[38;5;28mself\u001b[39m\u001b[38;5;241m.\u001b[39m_placeholder_type \u001b[38;5;129;01mis\u001b[39;00m collections\u001b[38;5;241m.\u001b[39mdefaultdict:\n\u001b[1;32m    768\u001b[0m   \u001b[38;5;28;01mreturn\u001b[39;00m {key: sorted_traversal[key] \u001b[38;5;28;01mfor\u001b[39;00m key \u001b[38;5;129;01min\u001b[39;00m \u001b[38;5;28mself\u001b[39m\u001b[38;5;241m.\u001b[39mmapping}\n",
            "\u001b[0;31mKeyboardInterrupt\u001b[0m: "
          ]
        }
      ],
      "source": [
        "# tuner.search(dict(df), target, epochs=100, validation_split=0.2, callbacks=[stop_early])\n",
        "tuner.search(dict(df), target, epochs=100, callbacks=[stop_early])\n",
        "\n",
        "# Get the optimal hyperparameters\n",
        "best_hps=tuner.get_best_hyperparameters(num_trials=1)[0]\n",
        "\n",
        "print(f\"\"\"\n",
        "The hyperparameter search is complete. The optimal number of layers is\n",
        "{best_hps.get('layers')} and the optimal number of units in the first\n",
        "densely-connected layer is {best_hps.get('units')} and the optimal learning rate\n",
        "for the optimizer is {best_hps.get('learning_rate')}.\n",
        "\"\"\")\n"
      ]
    },
    {
      "cell_type": "code",
      "execution_count": 35,
      "metadata": {
        "colab": {
          "base_uri": "https://localhost:8080/"
        },
        "id": "6PcQC_xo2-52",
        "outputId": "fa6a564b-c307-4205-af6c-45bdee94f44c"
      },
      "outputs": [
        {
          "name": "stdout",
          "output_type": "stream",
          "text": [
            "Epoch 1/100\n",
            "\u001b[1m31381/31381\u001b[0m \u001b[32m━━━━━━━━━━━━━━━━━━━━\u001b[0m\u001b[37m\u001b[0m \u001b[1m282s\u001b[0m 9ms/step - accuracy: 0.9883 - loss: 0.0335\n",
            "Epoch 2/100\n",
            "\u001b[1m31381/31381\u001b[0m \u001b[32m━━━━━━━━━━━━━━━━━━━━\u001b[0m\u001b[37m\u001b[0m \u001b[1m279s\u001b[0m 9ms/step - accuracy: 0.9992 - loss: 0.0023\n",
            "Epoch 3/100\n",
            "\u001b[1m31381/31381\u001b[0m \u001b[32m━━━━━━━━━━━━━━━━━━━━\u001b[0m\u001b[37m\u001b[0m \u001b[1m282s\u001b[0m 9ms/step - accuracy: 0.9996 - loss: 0.0013\n",
            "Epoch 4/100\n",
            "\u001b[1m31381/31381\u001b[0m \u001b[32m━━━━━━━━━━━━━━━━━━━━\u001b[0m\u001b[37m\u001b[0m \u001b[1m282s\u001b[0m 9ms/step - accuracy: 0.9997 - loss: 8.5166e-04\n",
            "Epoch 5/100\n",
            "\u001b[1m31381/31381\u001b[0m \u001b[32m━━━━━━━━━━━━━━━━━━━━\u001b[0m\u001b[37m\u001b[0m \u001b[1m283s\u001b[0m 9ms/step - accuracy: 0.9997 - loss: 7.4312e-04\n",
            "Epoch 6/100\n",
            "\u001b[1m31381/31381\u001b[0m \u001b[32m━━━━━━━━━━━━━━━━━━━━\u001b[0m\u001b[37m\u001b[0m \u001b[1m286s\u001b[0m 9ms/step - accuracy: 0.9998 - loss: 6.3115e-04\n",
            "Epoch 7/100\n",
            "\u001b[1m31381/31381\u001b[0m \u001b[32m━━━━━━━━━━━━━━━━━━━━\u001b[0m\u001b[37m\u001b[0m \u001b[1m301s\u001b[0m 10ms/step - accuracy: 0.9998 - loss: 5.8327e-04\n",
            "Epoch 8/100\n",
            "\u001b[1m31381/31381\u001b[0m \u001b[32m━━━━━━━━━━━━━━━━━━━━\u001b[0m\u001b[37m\u001b[0m \u001b[1m309s\u001b[0m 10ms/step - accuracy: 0.9998 - loss: 5.0380e-04\n",
            "Epoch 9/100\n",
            "\u001b[1m31381/31381\u001b[0m \u001b[32m━━━━━━━━━━━━━━━━━━━━\u001b[0m\u001b[37m\u001b[0m \u001b[1m300s\u001b[0m 10ms/step - accuracy: 0.9999 - loss: 5.0569e-04\n",
            "Epoch 10/100\n",
            "\u001b[1m31381/31381\u001b[0m \u001b[32m━━━━━━━━━━━━━━━━━━━━\u001b[0m\u001b[37m\u001b[0m \u001b[1m290s\u001b[0m 9ms/step - accuracy: 0.9999 - loss: 4.2374e-04\n",
            "Epoch 11/100\n",
            "\u001b[1m31381/31381\u001b[0m \u001b[32m━━━━━━━━━━━━━━━━━━━━\u001b[0m\u001b[37m\u001b[0m \u001b[1m295s\u001b[0m 9ms/step - accuracy: 0.9999 - loss: 5.3058e-04\n",
            "Epoch 12/100\n",
            "\u001b[1m31381/31381\u001b[0m \u001b[32m━━━━━━━━━━━━━━━━━━━━\u001b[0m\u001b[37m\u001b[0m \u001b[1m304s\u001b[0m 10ms/step - accuracy: 0.9999 - loss: 3.8759e-04\n",
            "Epoch 13/100\n",
            "\u001b[1m31381/31381\u001b[0m \u001b[32m━━━━━━━━━━━━━━━━━━━━\u001b[0m\u001b[37m\u001b[0m \u001b[1m294s\u001b[0m 9ms/step - accuracy: 0.9999 - loss: 5.4280e-04\n",
            "Epoch 14/100\n",
            "\u001b[1m31381/31381\u001b[0m \u001b[32m━━━━━━━━━━━━━━━━━━━━\u001b[0m\u001b[37m\u001b[0m \u001b[1m294s\u001b[0m 9ms/step - accuracy: 0.9999 - loss: 4.1212e-04\n",
            "Epoch 15/100\n",
            "\u001b[1m31381/31381\u001b[0m \u001b[32m━━━━━━━━━━━━━━━━━━━━\u001b[0m\u001b[37m\u001b[0m \u001b[1m294s\u001b[0m 9ms/step - accuracy: 0.9999 - loss: 3.3679e-04\n",
            "Epoch 16/100\n",
            "\u001b[1m31381/31381\u001b[0m \u001b[32m━━━━━━━━━━━━━━━━━━━━\u001b[0m\u001b[37m\u001b[0m \u001b[1m299s\u001b[0m 10ms/step - accuracy: 0.9999 - loss: 3.0793e-04\n",
            "Epoch 17/100\n",
            "\u001b[1m31381/31381\u001b[0m \u001b[32m━━━━━━━━━━━━━━━━━━━━\u001b[0m\u001b[37m\u001b[0m \u001b[1m292s\u001b[0m 9ms/step - accuracy: 0.9999 - loss: 2.8729e-04\n",
            "Epoch 18/100\n",
            "\u001b[1m31381/31381\u001b[0m \u001b[32m━━━━━━━━━━━━━━━━━━━━\u001b[0m\u001b[37m\u001b[0m \u001b[1m296s\u001b[0m 9ms/step - accuracy: 0.9999 - loss: 2.5349e-04\n",
            "Epoch 19/100\n",
            "\u001b[1m31381/31381\u001b[0m \u001b[32m━━━━━━━━━━━━━━━━━━━━\u001b[0m\u001b[37m\u001b[0m \u001b[1m301s\u001b[0m 10ms/step - accuracy: 0.9999 - loss: 3.4131e-04\n",
            "Epoch 20/100\n",
            "\u001b[1m31381/31381\u001b[0m \u001b[32m━━━━━━━━━━━━━━━━━━━━\u001b[0m\u001b[37m\u001b[0m \u001b[1m303s\u001b[0m 10ms/step - accuracy: 0.9999 - loss: 1.8719e-04\n",
            "Epoch 21/100\n",
            "\u001b[1m31381/31381\u001b[0m \u001b[32m━━━━━━━━━━━━━━━━━━━━\u001b[0m\u001b[37m\u001b[0m \u001b[1m303s\u001b[0m 10ms/step - accuracy: 0.9999 - loss: 3.5260e-04\n",
            "Epoch 22/100\n",
            "\u001b[1m31381/31381\u001b[0m \u001b[32m━━━━━━━━━━━━━━━━━━━━\u001b[0m\u001b[37m\u001b[0m \u001b[1m303s\u001b[0m 10ms/step - accuracy: 0.9999 - loss: 2.6356e-04\n",
            "Epoch 23/100\n",
            "\u001b[1m31381/31381\u001b[0m \u001b[32m━━━━━━━━━━━━━━━━━━━━\u001b[0m\u001b[37m\u001b[0m \u001b[1m303s\u001b[0m 10ms/step - accuracy: 0.9999 - loss: 2.3578e-04\n",
            "Epoch 24/100\n",
            "\u001b[1m31381/31381\u001b[0m \u001b[32m━━━━━━━━━━━━━━━━━━━━\u001b[0m\u001b[37m\u001b[0m \u001b[1m300s\u001b[0m 10ms/step - accuracy: 1.0000 - loss: 2.8275e-04\n",
            "Epoch 25/100\n",
            "\u001b[1m31381/31381\u001b[0m \u001b[32m━━━━━━━━━━━━━━━━━━━━\u001b[0m\u001b[37m\u001b[0m \u001b[1m301s\u001b[0m 10ms/step - accuracy: 1.0000 - loss: 1.5768e-04\n",
            "Epoch 26/100\n",
            "\u001b[1m31381/31381\u001b[0m \u001b[32m━━━━━━━━━━━━━━━━━━━━\u001b[0m\u001b[37m\u001b[0m \u001b[1m301s\u001b[0m 10ms/step - accuracy: 1.0000 - loss: 2.6645e-04\n",
            "Epoch 27/100\n",
            "\u001b[1m31381/31381\u001b[0m \u001b[32m━━━━━━━━━━━━━━━━━━━━\u001b[0m\u001b[37m\u001b[0m \u001b[1m300s\u001b[0m 10ms/step - accuracy: 1.0000 - loss: 1.8653e-04\n",
            "Epoch 28/100\n",
            "\u001b[1m31381/31381\u001b[0m \u001b[32m━━━━━━━━━━━━━━━━━━━━\u001b[0m\u001b[37m\u001b[0m \u001b[1m292s\u001b[0m 9ms/step - accuracy: 1.0000 - loss: 1.4607e-04\n",
            "Epoch 29/100\n",
            "\u001b[1m31381/31381\u001b[0m \u001b[32m━━━━━━━━━━━━━━━━━━━━\u001b[0m\u001b[37m\u001b[0m \u001b[1m292s\u001b[0m 9ms/step - accuracy: 1.0000 - loss: 1.4198e-04\n",
            "Epoch 30/100\n",
            "\u001b[1m31381/31381\u001b[0m \u001b[32m━━━━━━━━━━━━━━━━━━━━\u001b[0m\u001b[37m\u001b[0m \u001b[1m291s\u001b[0m 9ms/step - accuracy: 0.9999 - loss: 3.0947e-04\n",
            "Epoch 31/100\n",
            "\u001b[1m31381/31381\u001b[0m \u001b[32m━━━━━━━━━━━━━━━━━━━━\u001b[0m\u001b[37m\u001b[0m \u001b[1m291s\u001b[0m 9ms/step - accuracy: 1.0000 - loss: 1.0663e-04\n",
            "Epoch 32/100\n",
            "\u001b[1m31381/31381\u001b[0m \u001b[32m━━━━━━━━━━━━━━━━━━━━\u001b[0m\u001b[37m\u001b[0m \u001b[1m291s\u001b[0m 9ms/step - accuracy: 1.0000 - loss: 1.8605e-04\n",
            "Epoch 33/100\n",
            "\u001b[1m31381/31381\u001b[0m \u001b[32m━━━━━━━━━━━━━━━━━━━━\u001b[0m\u001b[37m\u001b[0m \u001b[1m292s\u001b[0m 9ms/step - accuracy: 0.9999 - loss: 2.9745e-04\n",
            "Epoch 34/100\n",
            "\u001b[1m31381/31381\u001b[0m \u001b[32m━━━━━━━━━━━━━━━━━━━━\u001b[0m\u001b[37m\u001b[0m \u001b[1m292s\u001b[0m 9ms/step - accuracy: 1.0000 - loss: 2.2687e-04\n",
            "Epoch 35/100\n",
            "\u001b[1m31381/31381\u001b[0m \u001b[32m━━━━━━━━━━━━━━━━━━━━\u001b[0m\u001b[37m\u001b[0m \u001b[1m292s\u001b[0m 9ms/step - accuracy: 0.9999 - loss: 1.8326e-04\n",
            "Epoch 36/100\n",
            "\u001b[1m31381/31381\u001b[0m \u001b[32m━━━━━━━━━━━━━━━━━━━━\u001b[0m\u001b[37m\u001b[0m \u001b[1m292s\u001b[0m 9ms/step - accuracy: 1.0000 - loss: 1.9156e-04\n",
            "Epoch 37/100\n",
            "\u001b[1m31381/31381\u001b[0m \u001b[32m━━━━━━━━━━━━━━━━━━━━\u001b[0m\u001b[37m\u001b[0m \u001b[1m292s\u001b[0m 9ms/step - accuracy: 1.0000 - loss: 1.4199e-04\n",
            "Epoch 38/100\n",
            "\u001b[1m31381/31381\u001b[0m \u001b[32m━━━━━━━━━━━━━━━━━━━━\u001b[0m\u001b[37m\u001b[0m \u001b[1m292s\u001b[0m 9ms/step - accuracy: 1.0000 - loss: 8.0607e-05\n",
            "Epoch 39/100\n",
            "\u001b[1m31381/31381\u001b[0m \u001b[32m━━━━━━━━━━━━━━━━━━━━\u001b[0m\u001b[37m\u001b[0m \u001b[1m292s\u001b[0m 9ms/step - accuracy: 1.0000 - loss: 2.2426e-04\n",
            "Epoch 40/100\n",
            "\u001b[1m31381/31381\u001b[0m \u001b[32m━━━━━━━━━━━━━━━━━━━━\u001b[0m\u001b[37m\u001b[0m \u001b[1m292s\u001b[0m 9ms/step - accuracy: 1.0000 - loss: 1.5643e-04\n",
            "Epoch 41/100\n",
            "\u001b[1m31381/31381\u001b[0m \u001b[32m━━━━━━━━━━━━━━━━━━━━\u001b[0m\u001b[37m\u001b[0m \u001b[1m292s\u001b[0m 9ms/step - accuracy: 1.0000 - loss: 1.1160e-04\n",
            "Epoch 42/100\n",
            "\u001b[1m31381/31381\u001b[0m \u001b[32m━━━━━━━━━━━━━━━━━━━━\u001b[0m\u001b[37m\u001b[0m \u001b[1m292s\u001b[0m 9ms/step - accuracy: 1.0000 - loss: 1.1569e-04\n",
            "Epoch 43/100\n",
            "\u001b[1m31381/31381\u001b[0m \u001b[32m━━━━━━━━━━━━━━━━━━━━\u001b[0m\u001b[37m\u001b[0m \u001b[1m292s\u001b[0m 9ms/step - accuracy: 1.0000 - loss: 1.4786e-04\n",
            "Epoch 44/100\n",
            "\u001b[1m31381/31381\u001b[0m \u001b[32m━━━━━━━━━━━━━━━━━━━━\u001b[0m\u001b[37m\u001b[0m \u001b[1m292s\u001b[0m 9ms/step - accuracy: 1.0000 - loss: 1.0241e-04\n",
            "Epoch 45/100\n",
            "\u001b[1m31381/31381\u001b[0m \u001b[32m━━━━━━━━━━━━━━━━━━━━\u001b[0m\u001b[37m\u001b[0m \u001b[1m293s\u001b[0m 9ms/step - accuracy: 1.0000 - loss: 1.9159e-04\n",
            "Epoch 46/100\n",
            "\u001b[1m31381/31381\u001b[0m \u001b[32m━━━━━━━━━━━━━━━━━━━━\u001b[0m\u001b[37m\u001b[0m \u001b[1m292s\u001b[0m 9ms/step - accuracy: 1.0000 - loss: 1.0900e-04\n",
            "Epoch 47/100\n",
            "\u001b[1m31381/31381\u001b[0m \u001b[32m━━━━━━━━━━━━━━━━━━━━\u001b[0m\u001b[37m\u001b[0m \u001b[1m292s\u001b[0m 9ms/step - accuracy: 1.0000 - loss: 7.7600e-05\n",
            "Epoch 48/100\n",
            "\u001b[1m31381/31381\u001b[0m \u001b[32m━━━━━━━━━━━━━━━━━━━━\u001b[0m\u001b[37m\u001b[0m \u001b[1m292s\u001b[0m 9ms/step - accuracy: 1.0000 - loss: 2.8098e-04\n",
            "Epoch 49/100\n",
            "\u001b[1m31381/31381\u001b[0m \u001b[32m━━━━━━━━━━━━━━━━━━━━\u001b[0m\u001b[37m\u001b[0m \u001b[1m292s\u001b[0m 9ms/step - accuracy: 1.0000 - loss: 1.7902e-04\n",
            "Epoch 50/100\n",
            "\u001b[1m31381/31381\u001b[0m \u001b[32m━━━━━━━━━━━━━━━━━━━━\u001b[0m\u001b[37m\u001b[0m \u001b[1m292s\u001b[0m 9ms/step - accuracy: 1.0000 - loss: 8.4459e-05\n",
            "Epoch 51/100\n",
            "\u001b[1m31381/31381\u001b[0m \u001b[32m━━━━━━━━━━━━━━━━━━━━\u001b[0m\u001b[37m\u001b[0m \u001b[1m292s\u001b[0m 9ms/step - accuracy: 1.0000 - loss: 1.8915e-04\n",
            "Epoch 52/100\n",
            "\u001b[1m31381/31381\u001b[0m \u001b[32m━━━━━━━━━━━━━━━━━━━━\u001b[0m\u001b[37m\u001b[0m \u001b[1m292s\u001b[0m 9ms/step - accuracy: 1.0000 - loss: 2.2441e-04\n",
            "Epoch 53/100\n",
            "\u001b[1m31381/31381\u001b[0m \u001b[32m━━━━━━━━━━━━━━━━━━━━\u001b[0m\u001b[37m\u001b[0m \u001b[1m292s\u001b[0m 9ms/step - accuracy: 1.0000 - loss: 2.1611e-05\n",
            "Epoch 54/100\n",
            "\u001b[1m31381/31381\u001b[0m \u001b[32m━━━━━━━━━━━━━━━━━━━━\u001b[0m\u001b[37m\u001b[0m \u001b[1m292s\u001b[0m 9ms/step - accuracy: 1.0000 - loss: 1.5727e-04\n",
            "Epoch 55/100\n",
            "\u001b[1m31381/31381\u001b[0m \u001b[32m━━━━━━━━━━━━━━━━━━━━\u001b[0m\u001b[37m\u001b[0m \u001b[1m292s\u001b[0m 9ms/step - accuracy: 1.0000 - loss: 1.0738e-04\n",
            "Epoch 56/100\n",
            "\u001b[1m31381/31381\u001b[0m \u001b[32m━━━━━━━━━━━━━━━━━━━━\u001b[0m\u001b[37m\u001b[0m \u001b[1m292s\u001b[0m 9ms/step - accuracy: 1.0000 - loss: 6.1673e-05\n",
            "Epoch 57/100\n",
            "\u001b[1m31381/31381\u001b[0m \u001b[32m━━━━━━━━━━━━━━━━━━━━\u001b[0m\u001b[37m\u001b[0m \u001b[1m292s\u001b[0m 9ms/step - accuracy: 1.0000 - loss: 7.4493e-05\n",
            "Epoch 58/100\n",
            "\u001b[1m31381/31381\u001b[0m \u001b[32m━━━━━━━━━━━━━━━━━━━━\u001b[0m\u001b[37m\u001b[0m \u001b[1m292s\u001b[0m 9ms/step - accuracy: 1.0000 - loss: 9.0104e-05\n",
            "Epoch 59/100\n",
            "\u001b[1m31381/31381\u001b[0m \u001b[32m━━━━━━━━━━━━━━━━━━━━\u001b[0m\u001b[37m\u001b[0m \u001b[1m292s\u001b[0m 9ms/step - accuracy: 1.0000 - loss: 4.3454e-05\n",
            "Epoch 60/100\n",
            "\u001b[1m31381/31381\u001b[0m \u001b[32m━━━━━━━━━━━━━━━━━━━━\u001b[0m\u001b[37m\u001b[0m \u001b[1m292s\u001b[0m 9ms/step - accuracy: 1.0000 - loss: 2.0431e-04\n",
            "Epoch 61/100\n",
            "\u001b[1m31381/31381\u001b[0m \u001b[32m━━━━━━━━━━━━━━━━━━━━\u001b[0m\u001b[37m\u001b[0m \u001b[1m292s\u001b[0m 9ms/step - accuracy: 1.0000 - loss: 1.9448e-05\n",
            "Epoch 62/100\n",
            "\u001b[1m31381/31381\u001b[0m \u001b[32m━━━━━━━━━━━━━━━━━━━━\u001b[0m\u001b[37m\u001b[0m \u001b[1m292s\u001b[0m 9ms/step - accuracy: 1.0000 - loss: 3.5058e-04\n",
            "Epoch 63/100\n",
            "\u001b[1m31381/31381\u001b[0m \u001b[32m━━━━━━━━━━━━━━━━━━━━\u001b[0m\u001b[37m\u001b[0m \u001b[1m292s\u001b[0m 9ms/step - accuracy: 1.0000 - loss: 4.8213e-05\n",
            "Epoch 64/100\n",
            "\u001b[1m31381/31381\u001b[0m \u001b[32m━━━━━━━━━━━━━━━━━━━━\u001b[0m\u001b[37m\u001b[0m \u001b[1m292s\u001b[0m 9ms/step - accuracy: 1.0000 - loss: 1.4351e-04\n",
            "Epoch 65/100\n",
            "\u001b[1m31381/31381\u001b[0m \u001b[32m━━━━━━━━━━━━━━━━━━━━\u001b[0m\u001b[37m\u001b[0m \u001b[1m292s\u001b[0m 9ms/step - accuracy: 1.0000 - loss: 9.1572e-06\n",
            "Epoch 66/100\n",
            "\u001b[1m31381/31381\u001b[0m \u001b[32m━━━━━━━━━━━━━━━━━━━━\u001b[0m\u001b[37m\u001b[0m \u001b[1m292s\u001b[0m 9ms/step - accuracy: 1.0000 - loss: 3.4237e-05\n",
            "Epoch 67/100\n",
            "\u001b[1m31381/31381\u001b[0m \u001b[32m━━━━━━━━━━━━━━━━━━━━\u001b[0m\u001b[37m\u001b[0m \u001b[1m292s\u001b[0m 9ms/step - accuracy: 1.0000 - loss: 6.6120e-05\n",
            "Epoch 68/100\n",
            "\u001b[1m31381/31381\u001b[0m \u001b[32m━━━━━━━━━━━━━━━━━━━━\u001b[0m\u001b[37m\u001b[0m \u001b[1m292s\u001b[0m 9ms/step - accuracy: 1.0000 - loss: 8.4541e-05\n",
            "Epoch 69/100\n",
            "\u001b[1m31381/31381\u001b[0m \u001b[32m━━━━━━━━━━━━━━━━━━━━\u001b[0m\u001b[37m\u001b[0m \u001b[1m292s\u001b[0m 9ms/step - accuracy: 1.0000 - loss: 5.2746e-05\n",
            "Epoch 70/100\n",
            "\u001b[1m31381/31381\u001b[0m \u001b[32m━━━━━━━━━━━━━━━━━━━━\u001b[0m\u001b[37m\u001b[0m \u001b[1m292s\u001b[0m 9ms/step - accuracy: 1.0000 - loss: 6.5699e-05\n",
            "Epoch 71/100\n",
            "\u001b[1m31381/31381\u001b[0m \u001b[32m━━━━━━━━━━━━━━━━━━━━\u001b[0m\u001b[37m\u001b[0m \u001b[1m292s\u001b[0m 9ms/step - accuracy: 1.0000 - loss: 8.3809e-05\n",
            "Epoch 72/100\n",
            "\u001b[1m31381/31381\u001b[0m \u001b[32m━━━━━━━━━━━━━━━━━━━━\u001b[0m\u001b[37m\u001b[0m \u001b[1m292s\u001b[0m 9ms/step - accuracy: 1.0000 - loss: 1.5961e-04\n",
            "Epoch 73/100\n",
            "\u001b[1m31381/31381\u001b[0m \u001b[32m━━━━━━━━━━━━━━━━━━━━\u001b[0m\u001b[37m\u001b[0m \u001b[1m293s\u001b[0m 9ms/step - accuracy: 1.0000 - loss: 9.2456e-05\n",
            "Epoch 74/100\n",
            "\u001b[1m31381/31381\u001b[0m \u001b[32m━━━━━━━━━━━━━━━━━━━━\u001b[0m\u001b[37m\u001b[0m \u001b[1m292s\u001b[0m 9ms/step - accuracy: 1.0000 - loss: 1.1664e-04\n",
            "Epoch 75/100\n",
            "\u001b[1m31381/31381\u001b[0m \u001b[32m━━━━━━━━━━━━━━━━━━━━\u001b[0m\u001b[37m\u001b[0m \u001b[1m293s\u001b[0m 9ms/step - accuracy: 1.0000 - loss: 6.2623e-05\n",
            "Epoch 76/100\n",
            "\u001b[1m31381/31381\u001b[0m \u001b[32m━━━━━━━━━━━━━━━━━━━━\u001b[0m\u001b[37m\u001b[0m \u001b[1m293s\u001b[0m 9ms/step - accuracy: 1.0000 - loss: 1.9209e-04\n",
            "Epoch 77/100\n",
            "\u001b[1m31381/31381\u001b[0m \u001b[32m━━━━━━━━━━━━━━━━━━━━\u001b[0m\u001b[37m\u001b[0m \u001b[1m292s\u001b[0m 9ms/step - accuracy: 1.0000 - loss: 4.5721e-05\n",
            "Epoch 78/100\n",
            "\u001b[1m31381/31381\u001b[0m \u001b[32m━━━━━━━━━━━━━━━━━━━━\u001b[0m\u001b[37m\u001b[0m \u001b[1m293s\u001b[0m 9ms/step - accuracy: 1.0000 - loss: 3.1637e-05\n",
            "Epoch 79/100\n",
            "\u001b[1m31381/31381\u001b[0m \u001b[32m━━━━━━━━━━━━━━━━━━━━\u001b[0m\u001b[37m\u001b[0m \u001b[1m293s\u001b[0m 9ms/step - accuracy: 1.0000 - loss: 4.9834e-05\n",
            "Epoch 80/100\n",
            "\u001b[1m31381/31381\u001b[0m \u001b[32m━━━━━━━━━━━━━━━━━━━━\u001b[0m\u001b[37m\u001b[0m \u001b[1m292s\u001b[0m 9ms/step - accuracy: 1.0000 - loss: 7.1772e-06\n",
            "Epoch 81/100\n",
            "\u001b[1m31381/31381\u001b[0m \u001b[32m━━━━━━━━━━━━━━━━━━━━\u001b[0m\u001b[37m\u001b[0m \u001b[1m293s\u001b[0m 9ms/step - accuracy: 1.0000 - loss: 2.6005e-05\n",
            "Epoch 82/100\n",
            "\u001b[1m31381/31381\u001b[0m \u001b[32m━━━━━━━━━━━━━━━━━━━━\u001b[0m\u001b[37m\u001b[0m \u001b[1m293s\u001b[0m 9ms/step - accuracy: 1.0000 - loss: 7.0609e-05\n",
            "Epoch 83/100\n",
            "\u001b[1m31381/31381\u001b[0m \u001b[32m━━━━━━━━━━━━━━━━━━━━\u001b[0m\u001b[37m\u001b[0m \u001b[1m293s\u001b[0m 9ms/step - accuracy: 1.0000 - loss: 3.3360e-05\n",
            "Epoch 84/100\n",
            "\u001b[1m31381/31381\u001b[0m \u001b[32m━━━━━━━━━━━━━━━━━━━━\u001b[0m\u001b[37m\u001b[0m \u001b[1m293s\u001b[0m 9ms/step - accuracy: 1.0000 - loss: 1.3743e-09\n",
            "Epoch 85/100\n",
            "\u001b[1m31381/31381\u001b[0m \u001b[32m━━━━━━━━━━━━━━━━━━━━\u001b[0m\u001b[37m\u001b[0m \u001b[1m292s\u001b[0m 9ms/step - accuracy: 1.0000 - loss: 1.0739e-09\n",
            "Epoch 86/100\n",
            "\u001b[1m31381/31381\u001b[0m \u001b[32m━━━━━━━━━━━━━━━━━━━━\u001b[0m\u001b[37m\u001b[0m \u001b[1m293s\u001b[0m 9ms/step - accuracy: 1.0000 - loss: 1.5786e-12\n",
            "Epoch 87/100\n",
            "\u001b[1m31381/31381\u001b[0m \u001b[32m━━━━━━━━━━━━━━━━━━━━\u001b[0m\u001b[37m\u001b[0m \u001b[1m293s\u001b[0m 9ms/step - accuracy: 1.0000 - loss: 5.8489e-13\n",
            "Epoch 88/100\n",
            "\u001b[1m31381/31381\u001b[0m \u001b[32m━━━━━━━━━━━━━━━━━━━━\u001b[0m\u001b[37m\u001b[0m \u001b[1m292s\u001b[0m 9ms/step - accuracy: 1.0000 - loss: 2.2620e-13\n",
            "Epoch 89/100\n",
            "\u001b[1m31381/31381\u001b[0m \u001b[32m━━━━━━━━━━━━━━━━━━━━\u001b[0m\u001b[37m\u001b[0m \u001b[1m293s\u001b[0m 9ms/step - accuracy: 1.0000 - loss: 1.1491e-13\n",
            "Epoch 90/100\n",
            "\u001b[1m31381/31381\u001b[0m \u001b[32m━━━━━━━━━━━━━━━━━━━━\u001b[0m\u001b[37m\u001b[0m \u001b[1m293s\u001b[0m 9ms/step - accuracy: 1.0000 - loss: 2.0244e-13\n",
            "Epoch 91/100\n",
            "\u001b[1m31381/31381\u001b[0m \u001b[32m━━━━━━━━━━━━━━━━━━━━\u001b[0m\u001b[37m\u001b[0m \u001b[1m293s\u001b[0m 9ms/step - accuracy: 1.0000 - loss: 8.1966e-13\n",
            "Epoch 92/100\n",
            "\u001b[1m31381/31381\u001b[0m \u001b[32m━━━━━━━━━━━━━━━━━━━━\u001b[0m\u001b[37m\u001b[0m \u001b[1m293s\u001b[0m 9ms/step - accuracy: 1.0000 - loss: 1.2836e-13\n",
            "Epoch 93/100\n",
            "\u001b[1m31381/31381\u001b[0m \u001b[32m━━━━━━━━━━━━━━━━━━━━\u001b[0m\u001b[37m\u001b[0m \u001b[1m293s\u001b[0m 9ms/step - accuracy: 1.0000 - loss: 2.8454e-13\n",
            "Epoch 94/100\n",
            "\u001b[1m31381/31381\u001b[0m \u001b[32m━━━━━━━━━━━━━━━━━━━━\u001b[0m\u001b[37m\u001b[0m \u001b[1m292s\u001b[0m 9ms/step - accuracy: 1.0000 - loss: 1.2624e-13\n",
            "Epoch 95/100\n",
            "\u001b[1m31381/31381\u001b[0m \u001b[32m━━━━━━━━━━━━━━━━━━━━\u001b[0m\u001b[37m\u001b[0m \u001b[1m293s\u001b[0m 9ms/step - accuracy: 1.0000 - loss: 1.0885e-13\n",
            "Epoch 96/100\n",
            "\u001b[1m31381/31381\u001b[0m \u001b[32m━━━━━━━━━━━━━━━━━━━━\u001b[0m\u001b[37m\u001b[0m \u001b[1m293s\u001b[0m 9ms/step - accuracy: 1.0000 - loss: 5.7068e-14\n",
            "Epoch 97/100\n",
            "\u001b[1m31381/31381\u001b[0m \u001b[32m━━━━━━━━━━━━━━━━━━━━\u001b[0m\u001b[37m\u001b[0m \u001b[1m293s\u001b[0m 9ms/step - accuracy: 1.0000 - loss: 1.8549e-13\n",
            "Epoch 98/100\n",
            "\u001b[1m31381/31381\u001b[0m \u001b[32m━━━━━━━━━━━━━━━━━━━━\u001b[0m\u001b[37m\u001b[0m \u001b[1m293s\u001b[0m 9ms/step - accuracy: 1.0000 - loss: 2.1365e-14\n",
            "Epoch 99/100\n",
            "\u001b[1m31381/31381\u001b[0m \u001b[32m━━━━━━━━━━━━━━━━━━━━\u001b[0m\u001b[37m\u001b[0m \u001b[1m293s\u001b[0m 9ms/step - accuracy: 1.0000 - loss: 0.0000e+00\n",
            "Epoch 100/100\n",
            "\u001b[1m31381/31381\u001b[0m \u001b[32m━━━━━━━━━━━━━━━━━━━━\u001b[0m\u001b[37m\u001b[0m \u001b[1m293s\u001b[0m 9ms/step - accuracy: 1.0000 - loss: 0.0000e+00\n",
            "Best epoch: 84\n"
          ]
        }
      ],
      "source": [
        "# Build the model with the optimal hyperparameters and train it on the data for 50 epochs\n",
        "# model = tuner.hypermodel.build(best_hps)\n",
        "\n",
        "model = build_model(480, 3, 0.0001)\n",
        "history = model.fit(dict(df), target, epochs=100)\n",
        "\n",
        "# val_acc_per_epoch = history.history['val_accuracy']\n",
        "# best_epoch = val_acc_per_epoch.index(max(val_acc_per_epoch)) + 1\n",
        "acc_per_epoch = history.history['accuracy']\n",
        "best_epoch = acc_per_epoch.index(max(acc_per_epoch)) + 1\n",
        "print('Best epoch: %d' % (best_epoch,))\n"
      ]
    },
    {
      "cell_type": "code",
      "execution_count": 36,
      "metadata": {
        "id": "vzDw0xc_Eeh0"
      },
      "outputs": [],
      "source": [
        "model.save('milana_vs_ruby.keras')"
      ]
    },
    {
      "cell_type": "code",
      "execution_count": 37,
      "metadata": {
        "id": "Gb4Kv2spwSk6"
      },
      "outputs": [
        {
          "name": "stderr",
          "output_type": "stream",
          "text": [
            "/home/andrey/Documents/coding/battler/.venv/lib/python3.9/site-packages/keras/src/models/functional.py:225: UserWarning: The structure of `inputs` doesn't match the expected structure: {'first': 'first', 'skill1': 'skill1', 'skill2': 'skill2', 'skill3': 'skill3', 'skill4': 'skill4', 'skill5': 'skill5', 'skill6': 'skill6', 'skill7': 'skill7', 'skill8': 'skill8', 'skill9': 'skill9', 'oppskill1': 'oppskill1', 'oppskill2': 'oppskill2', 'oppskill3': 'oppskill3', 'oppskill4': 'oppskill4', 'oppskill5': 'oppskill5', 'oppskill6': 'oppskill6', 'oppskill7': 'oppskill7', 'oppskill8': 'oppskill8', 'oppskill9': 'oppskill9', 'oppskill10': 'oppskill10'}. Received: the structure of inputs=['*', '*', '*', '*', '*', '*', '*', '*', '*', '*', '*', '*', '*', '*', '*', '*', '*', '*', '*', '*']\n",
            "  warnings.warn(\n"
          ]
        },
        {
          "name": "stdout",
          "output_type": "stream",
          "text": [
            "INFO:tensorflow:Assets written to: milana_vs_ruby/assets\n"
          ]
        },
        {
          "name": "stderr",
          "output_type": "stream",
          "text": [
            "INFO:tensorflow:Assets written to: milana_vs_ruby/assets\n"
          ]
        },
        {
          "name": "stdout",
          "output_type": "stream",
          "text": [
            "Saved artifact at 'milana_vs_ruby'. The following endpoints are available:\n",
            "\n",
            "* Endpoint 'serve'\n",
            "  args_0 (POSITIONAL_ONLY): List[TensorSpec(shape=(None, 1), dtype=tf.int64, name='first'), TensorSpec(shape=(None, 1), dtype=tf.int64, name='oppskill1'), TensorSpec(shape=(None, 1), dtype=tf.int64, name='oppskill10'), TensorSpec(shape=(None, 1), dtype=tf.int64, name='oppskill2'), TensorSpec(shape=(None, 1), dtype=tf.int64, name='oppskill3'), TensorSpec(shape=(None, 1), dtype=tf.int64, name='oppskill4'), TensorSpec(shape=(None, 1), dtype=tf.int64, name='oppskill5'), TensorSpec(shape=(None, 1), dtype=tf.int64, name='oppskill6'), TensorSpec(shape=(None, 1), dtype=tf.int64, name='oppskill7'), TensorSpec(shape=(None, 1), dtype=tf.int64, name='oppskill8'), TensorSpec(shape=(None, 1), dtype=tf.int64, name='oppskill9'), TensorSpec(shape=(None, 1), dtype=tf.int64, name='skill1'), TensorSpec(shape=(None, 1), dtype=tf.int64, name='skill2'), TensorSpec(shape=(None, 1), dtype=tf.int64, name='skill3'), TensorSpec(shape=(None, 1), dtype=tf.int64, name='skill4'), TensorSpec(shape=(None, 1), dtype=tf.int64, name='skill5'), TensorSpec(shape=(None, 1), dtype=tf.int64, name='skill6'), TensorSpec(shape=(None, 1), dtype=tf.int64, name='skill7'), TensorSpec(shape=(None, 1), dtype=tf.int64, name='skill8'), TensorSpec(shape=(None, 1), dtype=tf.int64, name='skill9')]\n",
            "Output Type:\n",
            "  TensorSpec(shape=(None, 4), dtype=tf.float32, name=None)\n",
            "Captures:\n",
            "  124628468884400: TensorSpec(shape=(), dtype=tf.resource, name=None)\n",
            "  124628468883872: TensorSpec(shape=(), dtype=tf.int64, name=None)\n",
            "  124628468942096: TensorSpec(shape=(), dtype=tf.resource, name=None)\n",
            "  124628468941920: TensorSpec(shape=(), dtype=tf.int64, name=None)\n",
            "  124628468961696: TensorSpec(shape=(), dtype=tf.resource, name=None)\n",
            "  124628468961520: TensorSpec(shape=(), dtype=tf.int64, name=None)\n",
            "  124628468964864: TensorSpec(shape=(), dtype=tf.resource, name=None)\n",
            "  124628468964688: TensorSpec(shape=(), dtype=tf.int64, name=None)\n",
            "  124628468988560: TensorSpec(shape=(), dtype=tf.resource, name=None)\n",
            "  124628468988384: TensorSpec(shape=(), dtype=tf.int64, name=None)\n",
            "  124628469008160: TensorSpec(shape=(), dtype=tf.resource, name=None)\n",
            "  124628469007984: TensorSpec(shape=(), dtype=tf.int64, name=None)\n",
            "  124628460106672: TensorSpec(shape=(), dtype=tf.resource, name=None)\n",
            "  124628460106496: TensorSpec(shape=(), dtype=tf.int64, name=None)\n",
            "  124628460118080: TensorSpec(shape=(), dtype=tf.resource, name=None)\n",
            "  124628460109664: TensorSpec(shape=(), dtype=tf.int64, name=None)\n",
            "  124628460120544: TensorSpec(shape=(), dtype=tf.resource, name=None)\n",
            "  124628460120368: TensorSpec(shape=(), dtype=tf.int64, name=None)\n",
            "  124628460140848: TensorSpec(shape=(), dtype=tf.resource, name=None)\n",
            "  124628460140672: TensorSpec(shape=(), dtype=tf.int64, name=None)\n",
            "  124628460152256: TensorSpec(shape=(), dtype=tf.resource, name=None)\n",
            "  124628460152080: TensorSpec(shape=(), dtype=tf.int64, name=None)\n",
            "  124628460154720: TensorSpec(shape=(), dtype=tf.resource, name=None)\n",
            "  124628460154544: TensorSpec(shape=(), dtype=tf.int64, name=None)\n",
            "  124628460174320: TensorSpec(shape=(), dtype=tf.resource, name=None)\n",
            "  124628460174144: TensorSpec(shape=(), dtype=tf.int64, name=None)\n",
            "  124628460194624: TensorSpec(shape=(), dtype=tf.resource, name=None)\n",
            "  124628460194448: TensorSpec(shape=(), dtype=tf.int64, name=None)\n",
            "  124628460214224: TensorSpec(shape=(), dtype=tf.resource, name=None)\n",
            "  124628460214048: TensorSpec(shape=(), dtype=tf.int64, name=None)\n",
            "  124628460229728: TensorSpec(shape=(), dtype=tf.resource, name=None)\n",
            "  124628460229552: TensorSpec(shape=(), dtype=tf.int64, name=None)\n",
            "  124628460237040: TensorSpec(shape=(), dtype=tf.resource, name=None)\n",
            "  124628460236864: TensorSpec(shape=(), dtype=tf.int64, name=None)\n",
            "  124628460240208: TensorSpec(shape=(), dtype=tf.resource, name=None)\n",
            "  124628460240032: TensorSpec(shape=(), dtype=tf.int64, name=None)\n",
            "  124628460263904: TensorSpec(shape=(), dtype=tf.resource, name=None)\n",
            "  124628460263728: TensorSpec(shape=(), dtype=tf.int64, name=None)\n",
            "  124624794356192: TensorSpec(shape=(), dtype=tf.resource, name=None)\n",
            "  124624794355840: TensorSpec(shape=(), dtype=tf.resource, name=None)\n",
            "  124624794357424: TensorSpec(shape=(), dtype=tf.resource, name=None)\n",
            "  124624794411952: TensorSpec(shape=(), dtype=tf.resource, name=None)\n",
            "  124624794412656: TensorSpec(shape=(), dtype=tf.resource, name=None)\n",
            "  124624794412304: TensorSpec(shape=(), dtype=tf.resource, name=None)\n",
            "  124624794414240: TensorSpec(shape=(), dtype=tf.resource, name=None)\n",
            "  124624794414064: TensorSpec(shape=(), dtype=tf.resource, name=None)\n"
          ]
        }
      ],
      "source": [
        "model.export('milana_vs_ruby')"
      ]
    },
    {
      "cell_type": "code",
      "execution_count": 38,
      "metadata": {
        "id": "FQ4DDZGhwXiB"
      },
      "outputs": [
        {
          "name": "stdout",
          "output_type": "stream",
          "text": [
            "  adding: milana_vs_ruby/ (stored 0%)\n",
            "  adding: milana_vs_ruby/assets/ (stored 0%)\n",
            "  adding: milana_vs_ruby/saved_model.pb (deflated 91%)\n",
            "  adding: milana_vs_ruby/variables/ (stored 0%)\n",
            "  adding: milana_vs_ruby/variables/variables.data-00000-of-00001 (deflated 7%)\n",
            "  adding: milana_vs_ruby/variables/variables.index (deflated 62%)\n",
            "  adding: milana_vs_ruby/fingerprint.pb (stored 0%)\n"
          ]
        }
      ],
      "source": [
        "!zip -r milana_vs_ruby.zip milana_vs_ruby/"
      ]
    }
  ],
  "metadata": {
    "accelerator": "GPU",
    "colab": {
      "gpuType": "T4",
      "provenance": []
    },
    "kernelspec": {
      "display_name": ".venv",
      "language": "python",
      "name": "python3"
    },
    "language_info": {
      "codemirror_mode": {
        "name": "ipython",
        "version": 3
      },
      "file_extension": ".py",
      "mimetype": "text/x-python",
      "name": "python",
      "nbconvert_exporter": "python",
      "pygments_lexer": "ipython3",
      "version": "3.9.19"
    }
  },
  "nbformat": 4,
  "nbformat_minor": 0
}
