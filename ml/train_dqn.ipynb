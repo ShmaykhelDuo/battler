{
 "cells": [
  {
   "cell_type": "code",
   "execution_count": 22,
   "metadata": {},
   "outputs": [],
   "source": [
    "import os\n",
    "# Keep using keras-2 (tf-keras) rather than keras-3 (keras).\n",
    "os.environ['TF_USE_LEGACY_KERAS'] = '1'"
   ]
  },
  {
   "cell_type": "code",
   "execution_count": 23,
   "metadata": {},
   "outputs": [],
   "source": [
    "from fullfmt import full_format_spec\n",
    "from env import BattlerGameEnv\n",
    "from go.game import game, ruby, milana, bot, formats\n",
    "\n",
    "def new_env():\n",
    "    return BattlerGameEnv(milana.CharacterMilana(), ruby.CharacterRuby(), bot.RandomBot(), formats.FullStateFormat(), full_format_spec())"
   ]
  },
  {
   "cell_type": "code",
   "execution_count": 24,
   "metadata": {},
   "outputs": [],
   "source": [
    "env = new_env()"
   ]
  },
  {
   "cell_type": "code",
   "execution_count": 25,
   "metadata": {},
   "outputs": [],
   "source": [
    "from tf_agents.environments import utils\n",
    "\n",
    "utils.validate_py_environment(env, episodes=5)"
   ]
  },
  {
   "cell_type": "code",
   "execution_count": 26,
   "metadata": {},
   "outputs": [],
   "source": [
    "from tf_agents.environments import tf_py_environment\n",
    "\n",
    "train_py_env = new_env()\n",
    "eval_py_env = new_env()\n",
    "\n",
    "train_env = tf_py_environment.TFPyEnvironment(train_py_env)\n",
    "eval_env = tf_py_environment.TFPyEnvironment(train_py_env)"
   ]
  },
  {
   "cell_type": "code",
   "execution_count": 27,
   "metadata": {},
   "outputs": [
    {
     "name": "stderr",
     "output_type": "stream",
     "text": [
      "WARNING:absl:Beware: Copying a layer that has already been built: 'model_1'.  This can lead to subtle bugs because the original layer's weights will not be used in the copy.\n"
     ]
    }
   ],
   "source": [
    "import tensorflow as tf\n",
    "from tf_agents.specs import tensor_spec\n",
    "from tf_agents.networks import sequential, encoding_network\n",
    "from fullfmt import full_format_preprocessing\n",
    "\n",
    "fc_layer_params = (100, 50)\n",
    "action_tensor_spec = tensor_spec.from_spec(env.action_spec())\n",
    "num_actions = action_tensor_spec.maximum - action_tensor_spec.minimum + 1\n",
    "\n",
    "combiner, spec = full_format_preprocessing()\n",
    "q_net = encoding_network.EncodingNetwork(\n",
    "    spec,\n",
    "    preprocessing_combiner=combiner,\n",
    "    fc_layer_params=(100, 50, num_actions)\n",
    ")\n",
    "\n",
    "# # Define a helper function to create Dense layers configured with the right\n",
    "# # activation and kernel initializer.\n",
    "# def dense_layer(num_units):\n",
    "#   return tf.keras.layers.Dense(\n",
    "#       num_units,\n",
    "#       activation=tf.keras.activations.relu,\n",
    "#       kernel_initializer=tf.keras.initializers.VarianceScaling(\n",
    "#           scale=2.0, mode='fan_in', distribution='truncated_normal'))\n",
    "\n",
    "# # QNetwork consists of a sequence of Dense layers followed by a dense layer\n",
    "# # with `num_actions` units to generate one q_value per available action as\n",
    "# # its output.\n",
    "# dense_layers = [dense_layer(num_units) for num_units in fc_layer_params]\n",
    "# q_values_layer = tf.keras.layers.Dense(\n",
    "#     num_actions,\n",
    "#     activation=None,\n",
    "#     kernel_initializer=tf.keras.initializers.RandomUniform(\n",
    "#         minval=-0.03, maxval=0.03),\n",
    "#     bias_initializer=tf.keras.initializers.Constant(-0.2))\n",
    "# q_net = sequential.Sequential(dense_layers + [q_values_layer])\n"
   ]
  },
  {
   "cell_type": "code",
   "execution_count": 28,
   "metadata": {},
   "outputs": [],
   "source": [
    "num_iterations = 20000 # @param {type:\"integer\"}\n",
    "\n",
    "initial_collect_steps = 100  # @param {type:\"integer\"}\n",
    "collect_steps_per_iteration = 10 # @param {type:\"integer\"}\n",
    "replay_buffer_max_length = 100000  # @param {type:\"integer\"}\n",
    "\n",
    "batch_size = 64  # @param {type:\"integer\"}\n",
    "learning_rate = 1e-3  # @param {type:\"number\"}\n",
    "log_interval = 200  # @param {type:\"integer\"}\n",
    "\n",
    "num_eval_episodes = 10  # @param {type:\"integer\"}\n",
    "eval_interval = 1000  # @param {type:\"integer\"}"
   ]
  },
  {
   "cell_type": "code",
   "execution_count": 29,
   "metadata": {},
   "outputs": [
    {
     "name": "stderr",
     "output_type": "stream",
     "text": [
      "WARNING:absl:Beware: Copying a layer that has already been built: 'model_1'.  This can lead to subtle bugs because the original layer's weights will not be used in the copy.\n"
     ]
    }
   ],
   "source": [
    "from tf_agents.agents.dqn import dqn_agent\n",
    "from tf_agents.utils import common\n",
    "\n",
    "optimizer = tf.keras.optimizers.Adam(learning_rate=learning_rate)\n",
    "\n",
    "train_step_counter = tf.Variable(0)\n",
    "\n",
    "agent = dqn_agent.DqnAgent(\n",
    "    train_env.time_step_spec(),\n",
    "    train_env.action_spec(),\n",
    "    q_network=q_net,\n",
    "    optimizer=optimizer,\n",
    "    td_errors_loss_fn=common.element_wise_squared_loss,\n",
    "    train_step_counter=train_step_counter)\n",
    "\n",
    "agent.initialize()\n"
   ]
  },
  {
   "cell_type": "code",
   "execution_count": 30,
   "metadata": {},
   "outputs": [],
   "source": [
    "eval_policy = agent.policy\n",
    "collect_policy = agent.collect_policy"
   ]
  },
  {
   "cell_type": "code",
   "execution_count": 31,
   "metadata": {},
   "outputs": [],
   "source": [
    "from tf_agents.policies import random_tf_policy\n",
    "\n",
    "random_policy = random_tf_policy.RandomTFPolicy(train_env.time_step_spec(),\n",
    "                                                train_env.action_spec())"
   ]
  },
  {
   "cell_type": "code",
   "execution_count": 32,
   "metadata": {},
   "outputs": [],
   "source": [
    "def compute_avg_return(environment, policy, num_episodes=10):\n",
    "\n",
    "  total_return = 0.0\n",
    "  for _ in range(num_episodes):\n",
    "\n",
    "    time_step = environment.reset()\n",
    "    episode_return = 0.0\n",
    "\n",
    "    while not time_step.is_last():\n",
    "      action_step = policy.action(time_step)\n",
    "      time_step = environment.step(action_step.action)\n",
    "      episode_return += time_step.reward\n",
    "    total_return += episode_return\n",
    "\n",
    "  avg_return = total_return / num_episodes\n",
    "  return avg_return.numpy()[0]\n",
    "\n",
    "\n",
    "# See also the metrics module for standard implementations of different metrics.\n",
    "# https://github.com/tensorflow/agents/tree/master/tf_agents/metrics\n"
   ]
  },
  {
   "cell_type": "code",
   "execution_count": 33,
   "metadata": {},
   "outputs": [
    {
     "data": {
      "text/plain": [
       "1.0"
      ]
     },
     "execution_count": 33,
     "metadata": {},
     "output_type": "execute_result"
    }
   ],
   "source": [
    "compute_avg_return(eval_env, random_policy, num_eval_episodes)"
   ]
  },
  {
   "cell_type": "code",
   "execution_count": 34,
   "metadata": {},
   "outputs": [
    {
     "name": "stderr",
     "output_type": "stream",
     "text": [
      "[reverb/cc/platform/tfrecord_checkpointer.cc:162]  Initializing TFRecordCheckpointer in /tmp/tmpq20kv1ib.\n",
      "[reverb/cc/platform/tfrecord_checkpointer.cc:565] Loading latest checkpoint from /tmp/tmpq20kv1ib\n",
      "[reverb/cc/platform/default/server.cc:71] Started replay server on port 34733\n"
     ]
    }
   ],
   "source": [
    "import reverb\n",
    "from tf_agents.replay_buffers import reverb_replay_buffer\n",
    "from tf_agents.replay_buffers import reverb_utils\n",
    "\n",
    "table_name = 'uniform_table'\n",
    "replay_buffer_signature = tensor_spec.from_spec(\n",
    "      agent.collect_data_spec)\n",
    "replay_buffer_signature = tensor_spec.add_outer_dim(\n",
    "    replay_buffer_signature)\n",
    "\n",
    "table = reverb.Table(\n",
    "    table_name,\n",
    "    max_size=replay_buffer_max_length,\n",
    "    sampler=reverb.selectors.Uniform(),\n",
    "    remover=reverb.selectors.Fifo(),\n",
    "    rate_limiter=reverb.rate_limiters.MinSize(1),\n",
    "    signature=replay_buffer_signature)\n",
    "\n",
    "reverb_server = reverb.Server([table])\n",
    "\n",
    "replay_buffer = reverb_replay_buffer.ReverbReplayBuffer(\n",
    "    agent.collect_data_spec,\n",
    "    table_name=table_name,\n",
    "    sequence_length=2,\n",
    "    local_server=reverb_server)\n",
    "\n",
    "rb_observer = reverb_utils.ReverbAddTrajectoryObserver(\n",
    "  replay_buffer.py_client,\n",
    "  table_name,\n",
    "  sequence_length=2)\n"
   ]
  },
  {
   "cell_type": "code",
   "execution_count": 35,
   "metadata": {},
   "outputs": [
    {
     "data": {
      "text/plain": [
       "(TimeStep(\n",
       " {'step_type': array(1, dtype=int32),\n",
       "  'reward': array(0., dtype=float32),\n",
       "  'discount': array(1., dtype=float32),\n",
       "  'observation': {'asopp': array([False]),\n",
       "                  'char_defence_defence_black': array([-2]),\n",
       "                  'char_defence_defence_blue': array([0]),\n",
       "                  'char_defence_defence_brown': array([0]),\n",
       "                  'char_defence_defence_cyan': array([1]),\n",
       "                  'char_defence_defence_gray': array([0]),\n",
       "                  'char_defence_defence_green': array([1]),\n",
       "                  'char_defence_defence_orange': array([-1]),\n",
       "                  'char_defence_defence_pink': array([0]),\n",
       "                  'char_defence_defence_red': array([0]),\n",
       "                  'char_defence_defence_violet': array([-1]),\n",
       "                  'char_defence_defence_white': array([2]),\n",
       "                  'char_defence_defence_yellow': array([1]),\n",
       "                  'char_effect_euphoria_euphoricheal': array([False]),\n",
       "                  'char_effect_euphoria_euphoricsource_amount': array([0]),\n",
       "                  'char_effect_euphoria_ultimateearly_amount': array([0]),\n",
       "                  'char_effect_milana_mintmist_turnsleft': array([0]),\n",
       "                  'char_effect_milana_stolenhp_amount': array([10]),\n",
       "                  'char_effect_ruby_cannotheal_turnsleft': array([0]),\n",
       "                  'char_effect_ruby_doubledamage_turnsleft': array([0]),\n",
       "                  'char_effect_speed_blacktokens_number': array([0]),\n",
       "                  'char_effect_speed_damagereduced': array([False]),\n",
       "                  'char_effect_speed_defencereduced': array([False]),\n",
       "                  'char_effect_speed_greentokens_number': array([0]),\n",
       "                  'char_effect_speed_spedup': array([False]),\n",
       "                  'char_effect_storyteller_cannotuse_colour': array([''], dtype=object),\n",
       "                  'char_effect_storyteller_controlled': array([False]),\n",
       "                  'char_effect_structure_iboost_amount': array([0]),\n",
       "                  'char_effect_structure_lastchance': array([False]),\n",
       "                  'char_effect_structure_slayers_threshold': array([0]),\n",
       "                  'char_effect_z89_ultimateslow_amount': array([0]),\n",
       "                  'char_hp': array([114]),\n",
       "                  'char_lastusedskill': array([1]),\n",
       "                  'char_maxhp': array([114]),\n",
       "                  'char_number': array([51]),\n",
       "                  'char_skill0_colour': array(['green'], dtype=object),\n",
       "                  'char_skill0_cooldown': array([0]),\n",
       "                  'char_skill0_is_available': array([ True]),\n",
       "                  'char_skill0_unlock_turn': array([0]),\n",
       "                  'char_skill1_colour': array(['white'], dtype=object),\n",
       "                  'char_skill1_cooldown': array([0]),\n",
       "                  'char_skill1_is_available': array([ True]),\n",
       "                  'char_skill1_unlock_turn': array([0]),\n",
       "                  'char_skill2_colour': array(['white'], dtype=object),\n",
       "                  'char_skill2_cooldown': array([2]),\n",
       "                  'char_skill2_is_available': array([ True]),\n",
       "                  'char_skill2_unlock_turn': array([0]),\n",
       "                  'char_skill3_colour': array(['cyan'], dtype=object),\n",
       "                  'char_skill3_cooldown': array([0]),\n",
       "                  'char_skill3_is_available': array([False]),\n",
       "                  'char_skill3_unlock_turn': array([8]),\n",
       "                  'goingfirst': array([False]),\n",
       "                  'opp_defence_defence_black': array([0]),\n",
       "                  'opp_defence_defence_blue': array([-2]),\n",
       "                  'opp_defence_defence_brown': array([1]),\n",
       "                  'opp_defence_defence_cyan': array([1]),\n",
       "                  'opp_defence_defence_gray': array([0]),\n",
       "                  'opp_defence_defence_green': array([0]),\n",
       "                  'opp_defence_defence_orange': array([-1]),\n",
       "                  'opp_defence_defence_pink': array([0]),\n",
       "                  'opp_defence_defence_red': array([4]),\n",
       "                  'opp_defence_defence_violet': array([0]),\n",
       "                  'opp_defence_defence_white': array([0]),\n",
       "                  'opp_defence_defence_yellow': array([2]),\n",
       "                  'opp_effect_euphoria_euphoricheal': array([False]),\n",
       "                  'opp_effect_euphoria_euphoricsource_amount': array([0]),\n",
       "                  'opp_effect_euphoria_ultimateearly_amount': array([0]),\n",
       "                  'opp_effect_milana_mintmist_turnsleft': array([0]),\n",
       "                  'opp_effect_milana_stolenhp_amount': array([0]),\n",
       "                  'opp_effect_ruby_cannotheal_turnsleft': array([0]),\n",
       "                  'opp_effect_ruby_doubledamage_turnsleft': array([1]),\n",
       "                  'opp_effect_speed_blacktokens_number': array([0]),\n",
       "                  'opp_effect_speed_damagereduced': array([False]),\n",
       "                  'opp_effect_speed_defencereduced': array([False]),\n",
       "                  'opp_effect_speed_greentokens_number': array([0]),\n",
       "                  'opp_effect_speed_spedup': array([False]),\n",
       "                  'opp_effect_storyteller_cannotuse_colour': array([''], dtype=object),\n",
       "                  'opp_effect_storyteller_controlled': array([False]),\n",
       "                  'opp_effect_structure_iboost_amount': array([0]),\n",
       "                  'opp_effect_structure_lastchance': array([False]),\n",
       "                  'opp_effect_structure_slayers_threshold': array([0]),\n",
       "                  'opp_effect_z89_ultimateslow_amount': array([0]),\n",
       "                  'opp_hp': array([78]),\n",
       "                  'opp_lastusedskill': array([3]),\n",
       "                  'opp_maxhp': array([110]),\n",
       "                  'opp_number': array([10]),\n",
       "                  'opp_skill0_colour': array(['yellow'], dtype=object),\n",
       "                  'opp_skill0_cooldown': array([0]),\n",
       "                  'opp_skill0_is_available': array([ True]),\n",
       "                  'opp_skill0_unlock_turn': array([0]),\n",
       "                  'opp_skill1_colour': array(['red'], dtype=object),\n",
       "                  'opp_skill1_cooldown': array([0]),\n",
       "                  'opp_skill1_is_available': array([ True]),\n",
       "                  'opp_skill1_unlock_turn': array([0]),\n",
       "                  'opp_skill2_colour': array(['cyan'], dtype=object),\n",
       "                  'opp_skill2_cooldown': array([1]),\n",
       "                  'opp_skill2_is_available': array([ True]),\n",
       "                  'opp_skill2_unlock_turn': array([0]),\n",
       "                  'opp_skill3_colour': array(['red'], dtype=object),\n",
       "                  'opp_skill3_cooldown': array([0]),\n",
       "                  'opp_skill3_is_available': array([False]),\n",
       "                  'opp_skill3_unlock_turn': array([0]),\n",
       "                  'turnnum': array([7])}}),\n",
       " ())"
      ]
     },
     "execution_count": 35,
     "metadata": {},
     "output_type": "execute_result"
    }
   ],
   "source": [
    "from tf_agents.drivers import py_driver\n",
    "from tf_agents.policies import py_tf_eager_policy\n",
    "\n",
    "py_driver.PyDriver(\n",
    "    env,\n",
    "    py_tf_eager_policy.PyTFEagerPolicy(\n",
    "      random_policy, use_tf_function=True),\n",
    "    [rb_observer],\n",
    "    max_steps=initial_collect_steps).run(train_py_env.reset())\n"
   ]
  },
  {
   "cell_type": "code",
   "execution_count": 36,
   "metadata": {},
   "outputs": [
    {
     "data": {
      "text/plain": [
       "<_PrefetchDataset element_spec=(Trajectory(\n",
       "{'step_type': TensorSpec(shape=(64, 2), dtype=tf.int32, name=None),\n",
       " 'observation': {'asopp': TensorSpec(shape=(64, 2, 1), dtype=tf.bool, name=None),\n",
       "                 'char_defence_defence_black': TensorSpec(shape=(64, 2, 1), dtype=tf.int64, name=None),\n",
       "                 'char_defence_defence_blue': TensorSpec(shape=(64, 2, 1), dtype=tf.int64, name=None),\n",
       "                 'char_defence_defence_brown': TensorSpec(shape=(64, 2, 1), dtype=tf.int64, name=None),\n",
       "                 'char_defence_defence_cyan': TensorSpec(shape=(64, 2, 1), dtype=tf.int64, name=None),\n",
       "                 'char_defence_defence_gray': TensorSpec(shape=(64, 2, 1), dtype=tf.int64, name=None),\n",
       "                 'char_defence_defence_green': TensorSpec(shape=(64, 2, 1), dtype=tf.int64, name=None),\n",
       "                 'char_defence_defence_orange': TensorSpec(shape=(64, 2, 1), dtype=tf.int64, name=None),\n",
       "                 'char_defence_defence_pink': TensorSpec(shape=(64, 2, 1), dtype=tf.int64, name=None),\n",
       "                 'char_defence_defence_red': TensorSpec(shape=(64, 2, 1), dtype=tf.int64, name=None),\n",
       "                 'char_defence_defence_violet': TensorSpec(shape=(64, 2, 1), dtype=tf.int64, name=None),\n",
       "                 'char_defence_defence_white': TensorSpec(shape=(64, 2, 1), dtype=tf.int64, name=None),\n",
       "                 'char_defence_defence_yellow': TensorSpec(shape=(64, 2, 1), dtype=tf.int64, name=None),\n",
       "                 'char_effect_euphoria_euphoricheal': TensorSpec(shape=(64, 2, 1), dtype=tf.bool, name=None),\n",
       "                 'char_effect_euphoria_euphoricsource_amount': TensorSpec(shape=(64, 2, 1), dtype=tf.int64, name=None),\n",
       "                 'char_effect_euphoria_ultimateearly_amount': TensorSpec(shape=(64, 2, 1), dtype=tf.int64, name=None),\n",
       "                 'char_effect_milana_mintmist_turnsleft': TensorSpec(shape=(64, 2, 1), dtype=tf.int64, name=None),\n",
       "                 'char_effect_milana_stolenhp_amount': TensorSpec(shape=(64, 2, 1), dtype=tf.int64, name=None),\n",
       "                 'char_effect_ruby_cannotheal_turnsleft': TensorSpec(shape=(64, 2, 1), dtype=tf.int64, name=None),\n",
       "                 'char_effect_ruby_doubledamage_turnsleft': TensorSpec(shape=(64, 2, 1), dtype=tf.int64, name=None),\n",
       "                 'char_effect_speed_blacktokens_number': TensorSpec(shape=(64, 2, 1), dtype=tf.int64, name=None),\n",
       "                 'char_effect_speed_damagereduced': TensorSpec(shape=(64, 2, 1), dtype=tf.bool, name=None),\n",
       "                 'char_effect_speed_defencereduced': TensorSpec(shape=(64, 2, 1), dtype=tf.bool, name=None),\n",
       "                 'char_effect_speed_greentokens_number': TensorSpec(shape=(64, 2, 1), dtype=tf.int64, name=None),\n",
       "                 'char_effect_speed_spedup': TensorSpec(shape=(64, 2, 1), dtype=tf.bool, name=None),\n",
       "                 'char_effect_storyteller_cannotuse_colour': TensorSpec(shape=(64, 2, 1), dtype=tf.string, name=None),\n",
       "                 'char_effect_storyteller_controlled': TensorSpec(shape=(64, 2, 1), dtype=tf.bool, name=None),\n",
       "                 'char_effect_structure_iboost_amount': TensorSpec(shape=(64, 2, 1), dtype=tf.int64, name=None),\n",
       "                 'char_effect_structure_lastchance': TensorSpec(shape=(64, 2, 1), dtype=tf.bool, name=None),\n",
       "                 'char_effect_structure_slayers_threshold': TensorSpec(shape=(64, 2, 1), dtype=tf.int64, name=None),\n",
       "                 'char_effect_z89_ultimateslow_amount': TensorSpec(shape=(64, 2, 1), dtype=tf.int64, name=None),\n",
       "                 'char_hp': TensorSpec(shape=(64, 2, 1), dtype=tf.int64, name=None),\n",
       "                 'char_lastusedskill': TensorSpec(shape=(64, 2, 1), dtype=tf.int64, name=None),\n",
       "                 'char_maxhp': TensorSpec(shape=(64, 2, 1), dtype=tf.int64, name=None),\n",
       "                 'char_number': TensorSpec(shape=(64, 2, 1), dtype=tf.int64, name=None),\n",
       "                 'char_skill0_colour': TensorSpec(shape=(64, 2, 1), dtype=tf.string, name=None),\n",
       "                 'char_skill0_cooldown': TensorSpec(shape=(64, 2, 1), dtype=tf.int64, name=None),\n",
       "                 'char_skill0_is_available': TensorSpec(shape=(64, 2, 1), dtype=tf.bool, name=None),\n",
       "                 'char_skill0_unlock_turn': TensorSpec(shape=(64, 2, 1), dtype=tf.int64, name=None),\n",
       "                 'char_skill1_colour': TensorSpec(shape=(64, 2, 1), dtype=tf.string, name=None),\n",
       "                 'char_skill1_cooldown': TensorSpec(shape=(64, 2, 1), dtype=tf.int64, name=None),\n",
       "                 'char_skill1_is_available': TensorSpec(shape=(64, 2, 1), dtype=tf.bool, name=None),\n",
       "                 'char_skill1_unlock_turn': TensorSpec(shape=(64, 2, 1), dtype=tf.int64, name=None),\n",
       "                 'char_skill2_colour': TensorSpec(shape=(64, 2, 1), dtype=tf.string, name=None),\n",
       "                 'char_skill2_cooldown': TensorSpec(shape=(64, 2, 1), dtype=tf.int64, name=None),\n",
       "                 'char_skill2_is_available': TensorSpec(shape=(64, 2, 1), dtype=tf.bool, name=None),\n",
       "                 'char_skill2_unlock_turn': TensorSpec(shape=(64, 2, 1), dtype=tf.int64, name=None),\n",
       "                 'char_skill3_colour': TensorSpec(shape=(64, 2, 1), dtype=tf.string, name=None),\n",
       "                 'char_skill3_cooldown': TensorSpec(shape=(64, 2, 1), dtype=tf.int64, name=None),\n",
       "                 'char_skill3_is_available': TensorSpec(shape=(64, 2, 1), dtype=tf.bool, name=None),\n",
       "                 'char_skill3_unlock_turn': TensorSpec(shape=(64, 2, 1), dtype=tf.int64, name=None),\n",
       "                 'goingfirst': TensorSpec(shape=(64, 2, 1), dtype=tf.bool, name=None),\n",
       "                 'opp_defence_defence_black': TensorSpec(shape=(64, 2, 1), dtype=tf.int64, name=None),\n",
       "                 'opp_defence_defence_blue': TensorSpec(shape=(64, 2, 1), dtype=tf.int64, name=None),\n",
       "                 'opp_defence_defence_brown': TensorSpec(shape=(64, 2, 1), dtype=tf.int64, name=None),\n",
       "                 'opp_defence_defence_cyan': TensorSpec(shape=(64, 2, 1), dtype=tf.int64, name=None),\n",
       "                 'opp_defence_defence_gray': TensorSpec(shape=(64, 2, 1), dtype=tf.int64, name=None),\n",
       "                 'opp_defence_defence_green': TensorSpec(shape=(64, 2, 1), dtype=tf.int64, name=None),\n",
       "                 'opp_defence_defence_orange': TensorSpec(shape=(64, 2, 1), dtype=tf.int64, name=None),\n",
       "                 'opp_defence_defence_pink': TensorSpec(shape=(64, 2, 1), dtype=tf.int64, name=None),\n",
       "                 'opp_defence_defence_red': TensorSpec(shape=(64, 2, 1), dtype=tf.int64, name=None),\n",
       "                 'opp_defence_defence_violet': TensorSpec(shape=(64, 2, 1), dtype=tf.int64, name=None),\n",
       "                 'opp_defence_defence_white': TensorSpec(shape=(64, 2, 1), dtype=tf.int64, name=None),\n",
       "                 'opp_defence_defence_yellow': TensorSpec(shape=(64, 2, 1), dtype=tf.int64, name=None),\n",
       "                 'opp_effect_euphoria_euphoricheal': TensorSpec(shape=(64, 2, 1), dtype=tf.bool, name=None),\n",
       "                 'opp_effect_euphoria_euphoricsource_amount': TensorSpec(shape=(64, 2, 1), dtype=tf.int64, name=None),\n",
       "                 'opp_effect_euphoria_ultimateearly_amount': TensorSpec(shape=(64, 2, 1), dtype=tf.int64, name=None),\n",
       "                 'opp_effect_milana_mintmist_turnsleft': TensorSpec(shape=(64, 2, 1), dtype=tf.int64, name=None),\n",
       "                 'opp_effect_milana_stolenhp_amount': TensorSpec(shape=(64, 2, 1), dtype=tf.int64, name=None),\n",
       "                 'opp_effect_ruby_cannotheal_turnsleft': TensorSpec(shape=(64, 2, 1), dtype=tf.int64, name=None),\n",
       "                 'opp_effect_ruby_doubledamage_turnsleft': TensorSpec(shape=(64, 2, 1), dtype=tf.int64, name=None),\n",
       "                 'opp_effect_speed_blacktokens_number': TensorSpec(shape=(64, 2, 1), dtype=tf.int64, name=None),\n",
       "                 'opp_effect_speed_damagereduced': TensorSpec(shape=(64, 2, 1), dtype=tf.bool, name=None),\n",
       "                 'opp_effect_speed_defencereduced': TensorSpec(shape=(64, 2, 1), dtype=tf.bool, name=None),\n",
       "                 'opp_effect_speed_greentokens_number': TensorSpec(shape=(64, 2, 1), dtype=tf.int64, name=None),\n",
       "                 'opp_effect_speed_spedup': TensorSpec(shape=(64, 2, 1), dtype=tf.bool, name=None),\n",
       "                 'opp_effect_storyteller_cannotuse_colour': TensorSpec(shape=(64, 2, 1), dtype=tf.string, name=None),\n",
       "                 'opp_effect_storyteller_controlled': TensorSpec(shape=(64, 2, 1), dtype=tf.bool, name=None),\n",
       "                 'opp_effect_structure_iboost_amount': TensorSpec(shape=(64, 2, 1), dtype=tf.int64, name=None),\n",
       "                 'opp_effect_structure_lastchance': TensorSpec(shape=(64, 2, 1), dtype=tf.bool, name=None),\n",
       "                 'opp_effect_structure_slayers_threshold': TensorSpec(shape=(64, 2, 1), dtype=tf.int64, name=None),\n",
       "                 'opp_effect_z89_ultimateslow_amount': TensorSpec(shape=(64, 2, 1), dtype=tf.int64, name=None),\n",
       "                 'opp_hp': TensorSpec(shape=(64, 2, 1), dtype=tf.int64, name=None),\n",
       "                 'opp_lastusedskill': TensorSpec(shape=(64, 2, 1), dtype=tf.int64, name=None),\n",
       "                 'opp_maxhp': TensorSpec(shape=(64, 2, 1), dtype=tf.int64, name=None),\n",
       "                 'opp_number': TensorSpec(shape=(64, 2, 1), dtype=tf.int64, name=None),\n",
       "                 'opp_skill0_colour': TensorSpec(shape=(64, 2, 1), dtype=tf.string, name=None),\n",
       "                 'opp_skill0_cooldown': TensorSpec(shape=(64, 2, 1), dtype=tf.int64, name=None),\n",
       "                 'opp_skill0_is_available': TensorSpec(shape=(64, 2, 1), dtype=tf.bool, name=None),\n",
       "                 'opp_skill0_unlock_turn': TensorSpec(shape=(64, 2, 1), dtype=tf.int64, name=None),\n",
       "                 'opp_skill1_colour': TensorSpec(shape=(64, 2, 1), dtype=tf.string, name=None),\n",
       "                 'opp_skill1_cooldown': TensorSpec(shape=(64, 2, 1), dtype=tf.int64, name=None),\n",
       "                 'opp_skill1_is_available': TensorSpec(shape=(64, 2, 1), dtype=tf.bool, name=None),\n",
       "                 'opp_skill1_unlock_turn': TensorSpec(shape=(64, 2, 1), dtype=tf.int64, name=None),\n",
       "                 'opp_skill2_colour': TensorSpec(shape=(64, 2, 1), dtype=tf.string, name=None),\n",
       "                 'opp_skill2_cooldown': TensorSpec(shape=(64, 2, 1), dtype=tf.int64, name=None),\n",
       "                 'opp_skill2_is_available': TensorSpec(shape=(64, 2, 1), dtype=tf.bool, name=None),\n",
       "                 'opp_skill2_unlock_turn': TensorSpec(shape=(64, 2, 1), dtype=tf.int64, name=None),\n",
       "                 'opp_skill3_colour': TensorSpec(shape=(64, 2, 1), dtype=tf.string, name=None),\n",
       "                 'opp_skill3_cooldown': TensorSpec(shape=(64, 2, 1), dtype=tf.int64, name=None),\n",
       "                 'opp_skill3_is_available': TensorSpec(shape=(64, 2, 1), dtype=tf.bool, name=None),\n",
       "                 'opp_skill3_unlock_turn': TensorSpec(shape=(64, 2, 1), dtype=tf.int64, name=None),\n",
       "                 'turnnum': TensorSpec(shape=(64, 2, 1), dtype=tf.int64, name=None)},\n",
       " 'action': TensorSpec(shape=(64, 2), dtype=tf.int64, name=None),\n",
       " 'policy_info': (),\n",
       " 'next_step_type': TensorSpec(shape=(64, 2), dtype=tf.int32, name=None),\n",
       " 'reward': TensorSpec(shape=(64, 2), dtype=tf.float32, name=None),\n",
       " 'discount': TensorSpec(shape=(64, 2), dtype=tf.float32, name=None)}), SampleInfo(key=TensorSpec(shape=(64, 2), dtype=tf.uint64, name=None), probability=TensorSpec(shape=(64, 2), dtype=tf.float64, name=None), table_size=TensorSpec(shape=(64, 2), dtype=tf.int64, name=None), priority=TensorSpec(shape=(64, 2), dtype=tf.float64, name=None), times_sampled=TensorSpec(shape=(64, 2), dtype=tf.int32, name=None)))>"
      ]
     },
     "execution_count": 36,
     "metadata": {},
     "output_type": "execute_result"
    }
   ],
   "source": [
    "# Dataset generates trajectories with shape [Bx2x...]\n",
    "dataset = replay_buffer.as_dataset(\n",
    "    num_parallel_calls=3,\n",
    "    sample_batch_size=batch_size,\n",
    "    num_steps=2).prefetch(3)\n",
    "\n",
    "dataset\n"
   ]
  },
  {
   "cell_type": "code",
   "execution_count": 37,
   "metadata": {},
   "outputs": [
    {
     "name": "stdout",
     "output_type": "stream",
     "text": [
      "<tensorflow.python.data.ops.iterator_ops.OwnedIterator object at 0x741f2439eb20>\n"
     ]
    }
   ],
   "source": [
    "iterator = iter(dataset)\n",
    "print(iterator)"
   ]
  },
  {
   "cell_type": "code",
   "execution_count": 38,
   "metadata": {},
   "outputs": [
    {
     "name": "stderr",
     "output_type": "stream",
     "text": [
      "[reverb/cc/client.cc:165] Sampler and server are owned by the same process (4903) so Table uniform_table is accessed directly without gRPC.\n"
     ]
    },
    {
     "name": "stdout",
     "output_type": "stream",
     "text": [
      "step = 200: loss = 925.9110107421875\n",
      "step = 400: loss = 2138.1396484375\n",
      "step = 600: loss = 95.87299346923828\n",
      "step = 800: loss = 1805.6884765625\n",
      "step = 1000: loss = 1052.9912109375\n",
      "step = 1000: Average Return = 255.0\n",
      "step = 1200: loss = 1594.802001953125\n",
      "step = 1400: loss = 1140.303955078125\n",
      "step = 1600: loss = 640.1133422851562\n",
      "step = 1800: loss = 450.6563415527344\n",
      "step = 2000: loss = 250.914306640625\n",
      "step = 2000: Average Return = 255.0\n",
      "step = 2200: loss = 576.0319213867188\n",
      "step = 2400: loss = 1788.112548828125\n",
      "step = 2600: loss = 436.5327453613281\n",
      "step = 2800: loss = 255.435302734375\n",
      "step = 3000: loss = 389.52239990234375\n",
      "step = 3000: Average Return = 281.20001220703125\n",
      "step = 3200: loss = 776.5948486328125\n",
      "step = 3400: loss = 420.37799072265625\n",
      "step = 3600: loss = 332.51043701171875\n",
      "step = 3800: loss = 334.8929748535156\n",
      "step = 4000: loss = 128.82736206054688\n",
      "step = 4000: Average Return = 237.10000610351562\n",
      "step = 4200: loss = 377.6467590332031\n",
      "step = 4400: loss = 119.40070343017578\n",
      "step = 4600: loss = 103.26496124267578\n",
      "step = 4800: loss = 177.13296508789062\n",
      "step = 5000: loss = 158.36158752441406\n",
      "step = 5000: Average Return = 281.20001220703125\n",
      "step = 5200: loss = 565.3218994140625\n",
      "step = 5400: loss = 290.2396545410156\n",
      "step = 5600: loss = 1841.3919677734375\n",
      "step = 5800: loss = 353.76190185546875\n",
      "step = 6000: loss = 418.8954772949219\n",
      "step = 6000: Average Return = 269.0\n",
      "step = 6200: loss = 173.53726196289062\n",
      "step = 6400: loss = 1643.47509765625\n",
      "step = 6600: loss = 416.0322265625\n",
      "step = 6800: loss = 256.745849609375\n",
      "step = 7000: loss = 119.48324584960938\n",
      "step = 7000: Average Return = 264.0\n",
      "step = 7200: loss = 165.70120239257812\n",
      "step = 7400: loss = 334.6149597167969\n",
      "step = 7600: loss = 157.22288513183594\n",
      "step = 7800: loss = 142.2087860107422\n",
      "step = 8000: loss = 116.32232666015625\n",
      "step = 8000: Average Return = 256.79998779296875\n",
      "step = 8200: loss = 170.22152709960938\n",
      "step = 8400: loss = 75.29737854003906\n",
      "step = 8600: loss = 142.036865234375\n",
      "step = 8800: loss = 189.2047119140625\n",
      "step = 9000: loss = 153.43978881835938\n",
      "step = 9000: Average Return = 263.5\n",
      "step = 9200: loss = 302.7153625488281\n",
      "step = 9400: loss = 69.382080078125\n",
      "step = 9600: loss = 114.54330444335938\n",
      "step = 9800: loss = 200.29434204101562\n",
      "step = 10000: loss = 277.9082336425781\n",
      "step = 10000: Average Return = 256.79998779296875\n",
      "step = 10200: loss = 243.9047088623047\n",
      "step = 10400: loss = 96.78297424316406\n",
      "step = 10600: loss = 149.002685546875\n",
      "step = 10800: loss = 266.98907470703125\n",
      "step = 11000: loss = 198.91757202148438\n",
      "step = 11000: Average Return = 267.20001220703125\n",
      "step = 11200: loss = 358.5536804199219\n",
      "step = 11400: loss = 110.60724639892578\n",
      "step = 11600: loss = 85.2495346069336\n",
      "step = 11800: loss = 214.58621215820312\n",
      "step = 12000: loss = 73.17709350585938\n",
      "step = 12000: Average Return = 255.0\n",
      "step = 12200: loss = 57.96467590332031\n",
      "step = 12400: loss = 169.13479614257812\n",
      "step = 12600: loss = 275.39459228515625\n",
      "step = 12800: loss = 99.65460205078125\n",
      "step = 13000: loss = 105.54683685302734\n",
      "step = 13000: Average Return = 254.1999969482422\n",
      "step = 13200: loss = 75.3111343383789\n",
      "step = 13400: loss = 117.4015121459961\n",
      "step = 13600: loss = 214.65264892578125\n",
      "step = 13800: loss = 189.8481903076172\n",
      "step = 14000: loss = 155.30453491210938\n",
      "step = 14000: Average Return = 254.5\n",
      "step = 14200: loss = 196.62799072265625\n",
      "step = 14400: loss = 146.10842895507812\n",
      "step = 14600: loss = 66.23035430908203\n",
      "step = 14800: loss = 91.77154541015625\n",
      "step = 15000: loss = 86.22361755371094\n",
      "step = 15000: Average Return = 260.3999938964844\n",
      "step = 15200: loss = 91.55220794677734\n",
      "step = 15400: loss = 124.09210205078125\n",
      "step = 15600: loss = 460.6054992675781\n",
      "step = 15800: loss = 47.047119140625\n",
      "step = 16000: loss = 149.4109344482422\n",
      "step = 16000: Average Return = 270.0\n",
      "step = 16200: loss = 203.1705780029297\n",
      "step = 16400: loss = 93.40910339355469\n",
      "step = 16600: loss = 156.2346649169922\n",
      "step = 16800: loss = 94.34365844726562\n",
      "step = 17000: loss = 139.9120330810547\n",
      "step = 17000: Average Return = 274.3999938964844\n",
      "step = 17200: loss = 79.65817260742188\n",
      "step = 17400: loss = 101.76141357421875\n",
      "step = 17600: loss = 96.84414672851562\n",
      "step = 17800: loss = 109.9453125\n",
      "step = 18000: loss = 197.11473083496094\n",
      "step = 18000: Average Return = 264.79998779296875\n",
      "step = 18200: loss = 232.16741943359375\n",
      "step = 18400: loss = 153.7400665283203\n",
      "step = 18600: loss = 164.5841522216797\n",
      "step = 18800: loss = 58.097923278808594\n",
      "step = 19000: loss = 112.12139892578125\n",
      "step = 19000: Average Return = 251.89999389648438\n",
      "step = 19200: loss = 335.83197021484375\n",
      "step = 19400: loss = 67.3942642211914\n",
      "step = 19600: loss = 90.39405822753906\n",
      "step = 19800: loss = 148.46939086914062\n",
      "step = 20000: loss = 87.64315795898438\n",
      "step = 20000: Average Return = 264.29998779296875\n"
     ]
    }
   ],
   "source": [
    "try:\n",
    "  %%time\n",
    "except:\n",
    "  pass\n",
    "\n",
    "# (Optional) Optimize by wrapping some of the code in a graph using TF function.\n",
    "agent.train = common.function(agent.train)\n",
    "\n",
    "# Reset the train step.\n",
    "agent.train_step_counter.assign(0)\n",
    "\n",
    "# Evaluate the agent's policy once before training.\n",
    "avg_return = compute_avg_return(eval_env, agent.policy, num_eval_episodes)\n",
    "returns = [avg_return]\n",
    "\n",
    "# Reset the environment.\n",
    "time_step = train_py_env.reset()\n",
    "\n",
    "# Create a driver to collect experience.\n",
    "collect_driver = py_driver.PyDriver(\n",
    "    env,\n",
    "    py_tf_eager_policy.PyTFEagerPolicy(\n",
    "      agent.collect_policy, use_tf_function=True),\n",
    "    [rb_observer],\n",
    "    max_steps=collect_steps_per_iteration)\n",
    "\n",
    "for _ in range(num_iterations):\n",
    "\n",
    "  # Collect a few steps and save to the replay buffer.\n",
    "  time_step, _ = collect_driver.run(time_step)\n",
    "\n",
    "  # Sample a batch of data from the buffer and update the agent's network.\n",
    "  experience, unused_info = next(iterator)\n",
    "  train_loss = agent.train(experience).loss\n",
    "\n",
    "  step = agent.train_step_counter.numpy()\n",
    "\n",
    "  if step % log_interval == 0:\n",
    "    print('step = {0}: loss = {1}'.format(step, train_loss))\n",
    "\n",
    "  if step % eval_interval == 0:\n",
    "    avg_return = compute_avg_return(eval_env, agent.policy, num_eval_episodes)\n",
    "    print('step = {0}: Average Return = {1}'.format(step, avg_return))\n",
    "    returns.append(avg_return)\n"
   ]
  },
  {
   "cell_type": "code",
   "execution_count": 42,
   "metadata": {},
   "outputs": [
    {
     "data": {
      "text/plain": [
       "Text(0.5, 0, 'Iterations')"
      ]
     },
     "execution_count": 42,
     "metadata": {},
     "output_type": "execute_result"
    },
    {
     "data": {
      "image/png": "[encoded data removed]",
      "text/plain": [
       "<Figure size 640x480 with 1 Axes>"
      ]
     },
     "metadata": {},
     "output_type": "display_data"
    }
   ],
   "source": [
    "import matplotlib.pyplot as plt\n",
    "\n",
    "iterations = range(0, num_iterations + 1, eval_interval)\n",
    "plt.plot(iterations, returns)\n",
    "plt.ylabel('Average Return')\n",
    "plt.xlabel('Iterations')\n"
   ]
  },
  {
   "cell_type": "code",
   "execution_count": 40,
   "metadata": {},
   "outputs": [],
   "source": [
    "from tf_agents.policies import policy_saver\n",
    "\n",
    "policy_dir = 'policy'\n",
    "tf_policy_saver = policy_saver.PolicySaver(agent.policy)"
   ]
  },
  {
   "cell_type": "code",
   "execution_count": 41,
   "metadata": {},
   "outputs": [
    {
     "name": "stdout",
     "output_type": "stream",
     "text": [
      "INFO:tensorflow:Assets written to: policy/assets\n"
     ]
    },
    {
     "name": "stderr",
     "output_type": "stream",
     "text": [
      "/home/andrey/Documents/coding/battler/.venv/lib/python3.9/site-packages/tensorflow/python/saved_model/nested_structure_coder.py:458: UserWarning: Encoding a StructuredValue with type tfp.distributions.Deterministic_ACTTypeSpec; loading this StructuredValue will require that this type be imported and registered.\n",
      "  warnings.warn(\"Encoding a StructuredValue with type %s; loading this \"\n",
      "INFO:tensorflow:Assets written to: policy/assets\n"
     ]
    }
   ],
   "source": [
    "tf_policy_saver.save(policy_dir)"
   ]
  }
 ],
 "metadata": {
  "kernelspec": {
   "display_name": ".venv",
   "language": "python",
   "name": "python3"
  },
  "language_info": {
   "codemirror_mode": {
    "name": "ipython",
    "version": 3
   },
   "file_extension": ".py",
   "mimetype": "text/x-python",
   "name": "python",
   "nbconvert_exporter": "python",
   "pygments_lexer": "ipython3",
   "version": "3.9.19"
  }
 },
 "nbformat": 4,
 "nbformat_minor": 2
}
